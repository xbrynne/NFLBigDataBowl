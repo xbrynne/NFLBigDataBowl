{
 "cells": [
  {
   "cell_type": "markdown",
   "id": "c81c5760",
   "metadata": {
    "papermill": {
     "duration": 0.019015,
     "end_time": "2024-01-07T17:33:57.046254",
     "exception": false,
     "start_time": "2024-01-07T17:33:57.027239",
     "status": "completed"
    },
    "tags": []
   },
   "source": [
    "# **Analyzing NFL Defensive Player Performance Using ML Techniques**\n",
    "By: Brynne DuBois\n",
    "\n",
    "Python - [NFL Big Data Bowl 2024](https://www.kaggle.com/competitions/nfl-big-data-bowl-2024)\n",
    "\n",
    "# Introduction\n",
    "With the emergence of machine learning (ML) and artificial intelligence (AI) technologies, there are many new applications for use that can be explored. One of these applications is within American Football analytics. The theme of this year's NFL Big Data Bowl is tackling, which provides the opportunity to analzye the defensive side of the ball and create new metrics that add meaning and predictive capablities to any given scenario.\n",
    "\n",
    "This project utilizes Next Gen Stats madee available to competition partcipants that include player tracking data from weeks 1-9 of the 2022 NFL season. Some highlights of the data made available are player and game stats including forced fumble, missed tackle, fumble, speed, acceleraton, and body weight for all players on a field during a given play. In addition to these pieces of data, we are also given the position of the ball on the field, which is critical to determining the liklihood of a tackle being made.\n",
    "\n",
    "The goal of this solution is to provide novel insights that can improve a team's defensive strategy while also contributing the open-source community within the NFL and American football analyttics spaces.\n",
    "\n",
    "# Approach\n",
    "My initial approach was to load in the data, clean it, and process it, which is typical for any data analytics project. The first step was to become familiar with the data and identify data points that would be the most useful in working towards a solution. The first task I did, which is not included in my final solution, was graphing and animating plays to understand how these data looks from a mathematical context. I'll dive into his a little more in the challenges section, but I have never analyzed football data so looking at it from a mathemtical standpoint was a shift in mindset that had to be accomplished. Once I understood how to translate play details into a mathematical context, I was ready to start making use of the data.\n",
    "\n",
    "The approach I followed was the following:\n",
    "1. Extract and clean data\n",
    "2. Explore and understand the data\n",
    "3. Utilize feature engineering to generate new metrics and discover the importance of current ones\n",
    "4. Split data into test and training sets\n",
    "5. Determine what model produces the best accuracy\n",
    "6. Analyze and interpret results\n",
    "\n",
    "# Challenges\n",
    "The largest challenge I faced in this endveavor was a lack of experience working with football data. Though I am currently a data analyst with a math and computer science background and have worked for 2 college football teams, I have never worked with football data as a data analyst/scientist. I was a student worker for the Notre Dame Football recruiting office and more recently served as the Assistant Director of Recruiting for LSU Football, and though I was curious about the data analytics surrounding these teams, I never had the opportunity to act on that interest because I was in another department. This competition was the perfect chance for me to combine my separate experiences in football and data analytics into one, learning and having fun along the way."
   ]
  },
  {
   "cell_type": "code",
   "execution_count": 1,
   "id": "f0819625",
   "metadata": {
    "_cell_guid": "b1076dfc-b9ad-4769-8c92-a6c4dae69d19",
    "_uuid": "8f2839f25d086af736a60e9eeb907d3b93b6e0e5",
    "execution": {
     "iopub.execute_input": "2024-01-07T17:33:57.086037Z",
     "iopub.status.busy": "2024-01-07T17:33:57.085551Z",
     "iopub.status.idle": "2024-01-07T17:33:59.972003Z",
     "shell.execute_reply": "2024-01-07T17:33:59.970396Z"
    },
    "papermill": {
     "duration": 2.910394,
     "end_time": "2024-01-07T17:33:59.975525",
     "exception": false,
     "start_time": "2024-01-07T17:33:57.065131",
     "status": "completed"
    },
    "tags": []
   },
   "outputs": [],
   "source": [
    "# Load in packages needed\n",
    "import numpy as np \n",
    "import pandas as pd \n",
    "import seaborn as sns\n",
    "import matplotlib.pyplot as plt\n",
    "from sklearn.svm import SVC\n",
    "from sklearn.preprocessing import StandardScaler\n",
    "from sklearn.model_selection import train_test_split, cross_val_score\n",
    "from sklearn.ensemble import BaggingClassifier, RandomForestClassifier, BaggingRegressor, RandomForestRegressor, GradientBoostingRegressor, AdaBoostClassifier, GradientBoostingClassifier\n",
    "from sklearn.linear_model import LogisticRegression\n",
    "from sklearn.tree import DecisionTreeRegressor, DecisionTreeClassifier, export_graphviz\n",
    "from sklearn.metrics import mean_squared_error,confusion_matrix, classification_report, roc_curve, auc, accuracy_score, roc_auc_score\n",
    "from sklearn.naive_bayes import GaussianNB\n",
    "from sklearn.neighbors import KNeighborsClassifier \n",
    "from sklearn.linear_model import LogisticRegression\n",
    "from datetime import datetime \n",
    "import warnings  \n",
    "\n",
    "warnings.filterwarnings('ignore')"
   ]
  },
  {
   "cell_type": "markdown",
   "id": "5bf5ba30",
   "metadata": {
    "papermill": {
     "duration": 0.017663,
     "end_time": "2024-01-07T17:34:00.011822",
     "exception": false,
     "start_time": "2024-01-07T17:33:59.994159",
     "status": "completed"
    },
    "tags": []
   },
   "source": [
    "# Step 1: Data Extraction and Cleansing\n",
    "The first step that needs to be taken in order to analyze the data is reading each CSV file into a pandas dataframe for further analysis. I will then create a combined dataframe utlizing the games, players, plays, and tackles data to get everything into one place.\n",
    "\n",
    "Though my initial approach does not make use of the tracking data, yet, I will read this in for future use.\n"
   ]
  },
  {
   "cell_type": "code",
   "execution_count": 2,
   "id": "672bc2cd",
   "metadata": {
    "execution": {
     "iopub.execute_input": "2024-01-07T17:34:00.051031Z",
     "iopub.status.busy": "2024-01-07T17:34:00.050356Z",
     "iopub.status.idle": "2024-01-07T17:34:57.346977Z",
     "shell.execute_reply": "2024-01-07T17:34:57.345703Z"
    },
    "papermill": {
     "duration": 57.319703,
     "end_time": "2024-01-07T17:34:57.350112",
     "exception": false,
     "start_time": "2024-01-07T17:34:00.030409",
     "status": "completed"
    },
    "tags": []
   },
   "outputs": [],
   "source": [
    "# Import data from CSV files\n",
    "games = pd.read_csv(\"/kaggle/input/nfl-big-data-bowl-2024/games.csv\")\n",
    "players  = pd.read_csv(\"/kaggle/input/nfl-big-data-bowl-2024/players.csv\")\n",
    "plays = pd.read_csv(\"/kaggle/input/nfl-big-data-bowl-2024/plays.csv\")\n",
    "tackles = pd.read_csv(\"/kaggle/input/nfl-big-data-bowl-2024/tackles.csv\")\n",
    "week1 = pd.read_csv(\"/kaggle/input/nfl-big-data-bowl-2024/tracking_week_1.csv\")\n",
    "week2 = pd.read_csv(\"/kaggle/input/nfl-big-data-bowl-2024/tracking_week_2.csv\")\n",
    "week3 = pd.read_csv(\"/kaggle/input/nfl-big-data-bowl-2024/tracking_week_3.csv\")\n",
    "week4 = pd.read_csv(\"/kaggle/input/nfl-big-data-bowl-2024/tracking_week_4.csv\")\n",
    "week5 = pd.read_csv(\"/kaggle/input/nfl-big-data-bowl-2024/tracking_week_5.csv\")\n",
    "week6 = pd.read_csv(\"/kaggle/input/nfl-big-data-bowl-2024/tracking_week_6.csv\")\n",
    "week7 = pd.read_csv(\"/kaggle/input/nfl-big-data-bowl-2024/tracking_week_7.csv\")\n",
    "week8 = pd.read_csv(\"/kaggle/input/nfl-big-data-bowl-2024/tracking_week_8.csv\")\n",
    "week9 = pd.read_csv(\"/kaggle/input/nfl-big-data-bowl-2024/tracking_week_9.csv\")\n",
    "\n",
    "# Combine tracking data\n",
    "tracking = pd.concat([week1, week2, week3, week4, week5, week6, week7, week8, week9])\n",
    "\n",
    "# Create unique IDs for applicable dataframes\n",
    "tackles[\"gamePlayId\"] = tackles[\"gameId\"] + tackles[\"playId\"]\n",
    "plays[\"gamePlayId\"] = plays[\"gameId\"] + plays[\"playId\"]\n"
   ]
  },
  {
   "cell_type": "markdown",
   "id": "76b482ee",
   "metadata": {
    "papermill": {
     "duration": 0.01876,
     "end_time": "2024-01-07T17:34:57.387079",
     "exception": false,
     "start_time": "2024-01-07T17:34:57.368319",
     "status": "completed"
    },
    "tags": []
   },
   "source": [
    "# Step 2: Explore and Understand the Data"
   ]
  },
  {
   "cell_type": "markdown",
   "id": "c38ce436",
   "metadata": {
    "papermill": {
     "duration": 0.018462,
     "end_time": "2024-01-07T17:34:57.425054",
     "exception": false,
     "start_time": "2024-01-07T17:34:57.406592",
     "status": "completed"
    },
    "tags": []
   },
   "source": [
    "I will explore each of the datasets, add features as needed, and vizualize different data points to help me do that."
   ]
  },
  {
   "cell_type": "code",
   "execution_count": 3,
   "id": "135a0997",
   "metadata": {
    "execution": {
     "iopub.execute_input": "2024-01-07T17:34:57.463283Z",
     "iopub.status.busy": "2024-01-07T17:34:57.462565Z",
     "iopub.status.idle": "2024-01-07T17:34:57.482402Z",
     "shell.execute_reply": "2024-01-07T17:34:57.481132Z"
    },
    "papermill": {
     "duration": 0.042615,
     "end_time": "2024-01-07T17:34:57.485572",
     "exception": false,
     "start_time": "2024-01-07T17:34:57.442957",
     "status": "completed"
    },
    "tags": []
   },
   "outputs": [
    {
     "data": {
      "text/html": [
       "<div>\n",
       "<style scoped>\n",
       "    .dataframe tbody tr th:only-of-type {\n",
       "        vertical-align: middle;\n",
       "    }\n",
       "\n",
       "    .dataframe tbody tr th {\n",
       "        vertical-align: top;\n",
       "    }\n",
       "\n",
       "    .dataframe thead th {\n",
       "        text-align: right;\n",
       "    }\n",
       "</style>\n",
       "<table border=\"1\" class=\"dataframe\">\n",
       "  <thead>\n",
       "    <tr style=\"text-align: right;\">\n",
       "      <th></th>\n",
       "      <th>gameId</th>\n",
       "      <th>season</th>\n",
       "      <th>week</th>\n",
       "      <th>gameDate</th>\n",
       "      <th>gameTimeEastern</th>\n",
       "      <th>homeTeamAbbr</th>\n",
       "      <th>visitorTeamAbbr</th>\n",
       "      <th>homeFinalScore</th>\n",
       "      <th>visitorFinalScore</th>\n",
       "    </tr>\n",
       "  </thead>\n",
       "  <tbody>\n",
       "    <tr>\n",
       "      <th>0</th>\n",
       "      <td>2022090800</td>\n",
       "      <td>2022</td>\n",
       "      <td>1</td>\n",
       "      <td>09/08/2022</td>\n",
       "      <td>20:20:00</td>\n",
       "      <td>LA</td>\n",
       "      <td>BUF</td>\n",
       "      <td>10</td>\n",
       "      <td>31</td>\n",
       "    </tr>\n",
       "    <tr>\n",
       "      <th>1</th>\n",
       "      <td>2022091100</td>\n",
       "      <td>2022</td>\n",
       "      <td>1</td>\n",
       "      <td>09/11/2022</td>\n",
       "      <td>13:00:00</td>\n",
       "      <td>ATL</td>\n",
       "      <td>NO</td>\n",
       "      <td>26</td>\n",
       "      <td>27</td>\n",
       "    </tr>\n",
       "    <tr>\n",
       "      <th>2</th>\n",
       "      <td>2022091101</td>\n",
       "      <td>2022</td>\n",
       "      <td>1</td>\n",
       "      <td>09/11/2022</td>\n",
       "      <td>13:00:00</td>\n",
       "      <td>CAR</td>\n",
       "      <td>CLE</td>\n",
       "      <td>24</td>\n",
       "      <td>26</td>\n",
       "    </tr>\n",
       "    <tr>\n",
       "      <th>3</th>\n",
       "      <td>2022091102</td>\n",
       "      <td>2022</td>\n",
       "      <td>1</td>\n",
       "      <td>09/11/2022</td>\n",
       "      <td>13:00:00</td>\n",
       "      <td>CHI</td>\n",
       "      <td>SF</td>\n",
       "      <td>19</td>\n",
       "      <td>10</td>\n",
       "    </tr>\n",
       "    <tr>\n",
       "      <th>4</th>\n",
       "      <td>2022091103</td>\n",
       "      <td>2022</td>\n",
       "      <td>1</td>\n",
       "      <td>09/11/2022</td>\n",
       "      <td>13:00:00</td>\n",
       "      <td>CIN</td>\n",
       "      <td>PIT</td>\n",
       "      <td>20</td>\n",
       "      <td>23</td>\n",
       "    </tr>\n",
       "  </tbody>\n",
       "</table>\n",
       "</div>"
      ],
      "text/plain": [
       "       gameId  season  week    gameDate gameTimeEastern homeTeamAbbr  \\\n",
       "0  2022090800    2022     1  09/08/2022        20:20:00           LA   \n",
       "1  2022091100    2022     1  09/11/2022        13:00:00          ATL   \n",
       "2  2022091101    2022     1  09/11/2022        13:00:00          CAR   \n",
       "3  2022091102    2022     1  09/11/2022        13:00:00          CHI   \n",
       "4  2022091103    2022     1  09/11/2022        13:00:00          CIN   \n",
       "\n",
       "  visitorTeamAbbr  homeFinalScore  visitorFinalScore  \n",
       "0             BUF              10                 31  \n",
       "1              NO              26                 27  \n",
       "2             CLE              24                 26  \n",
       "3              SF              19                 10  \n",
       "4             PIT              20                 23  "
      ]
     },
     "execution_count": 3,
     "metadata": {},
     "output_type": "execute_result"
    }
   ],
   "source": [
    "# Preview datasets of interest\n",
    "games.head()"
   ]
  },
  {
   "cell_type": "code",
   "execution_count": 4,
   "id": "2ea4e721",
   "metadata": {
    "execution": {
     "iopub.execute_input": "2024-01-07T17:34:57.524640Z",
     "iopub.status.busy": "2024-01-07T17:34:57.524146Z",
     "iopub.status.idle": "2024-01-07T17:34:57.538957Z",
     "shell.execute_reply": "2024-01-07T17:34:57.537640Z"
    },
    "papermill": {
     "duration": 0.037563,
     "end_time": "2024-01-07T17:34:57.541618",
     "exception": false,
     "start_time": "2024-01-07T17:34:57.504055",
     "status": "completed"
    },
    "tags": []
   },
   "outputs": [
    {
     "data": {
      "text/html": [
       "<div>\n",
       "<style scoped>\n",
       "    .dataframe tbody tr th:only-of-type {\n",
       "        vertical-align: middle;\n",
       "    }\n",
       "\n",
       "    .dataframe tbody tr th {\n",
       "        vertical-align: top;\n",
       "    }\n",
       "\n",
       "    .dataframe thead th {\n",
       "        text-align: right;\n",
       "    }\n",
       "</style>\n",
       "<table border=\"1\" class=\"dataframe\">\n",
       "  <thead>\n",
       "    <tr style=\"text-align: right;\">\n",
       "      <th></th>\n",
       "      <th>nflId</th>\n",
       "      <th>height</th>\n",
       "      <th>weight</th>\n",
       "      <th>birthDate</th>\n",
       "      <th>collegeName</th>\n",
       "      <th>position</th>\n",
       "      <th>displayName</th>\n",
       "    </tr>\n",
       "  </thead>\n",
       "  <tbody>\n",
       "    <tr>\n",
       "      <th>0</th>\n",
       "      <td>25511</td>\n",
       "      <td>6-4</td>\n",
       "      <td>225</td>\n",
       "      <td>1977-08-03</td>\n",
       "      <td>Michigan</td>\n",
       "      <td>QB</td>\n",
       "      <td>Tom Brady</td>\n",
       "    </tr>\n",
       "    <tr>\n",
       "      <th>1</th>\n",
       "      <td>29550</td>\n",
       "      <td>6-4</td>\n",
       "      <td>328</td>\n",
       "      <td>1982-01-22</td>\n",
       "      <td>Arkansas</td>\n",
       "      <td>T</td>\n",
       "      <td>Jason Peters</td>\n",
       "    </tr>\n",
       "    <tr>\n",
       "      <th>2</th>\n",
       "      <td>29851</td>\n",
       "      <td>6-2</td>\n",
       "      <td>225</td>\n",
       "      <td>1983-12-02</td>\n",
       "      <td>California</td>\n",
       "      <td>QB</td>\n",
       "      <td>Aaron Rodgers</td>\n",
       "    </tr>\n",
       "    <tr>\n",
       "      <th>3</th>\n",
       "      <td>30842</td>\n",
       "      <td>6-6</td>\n",
       "      <td>267</td>\n",
       "      <td>1984-05-19</td>\n",
       "      <td>UCLA</td>\n",
       "      <td>TE</td>\n",
       "      <td>Marcedes Lewis</td>\n",
       "    </tr>\n",
       "    <tr>\n",
       "      <th>4</th>\n",
       "      <td>33084</td>\n",
       "      <td>6-4</td>\n",
       "      <td>217</td>\n",
       "      <td>1985-05-17</td>\n",
       "      <td>Boston College</td>\n",
       "      <td>QB</td>\n",
       "      <td>Matt Ryan</td>\n",
       "    </tr>\n",
       "  </tbody>\n",
       "</table>\n",
       "</div>"
      ],
      "text/plain": [
       "   nflId height  weight   birthDate     collegeName position     displayName\n",
       "0  25511    6-4     225  1977-08-03        Michigan       QB       Tom Brady\n",
       "1  29550    6-4     328  1982-01-22        Arkansas        T    Jason Peters\n",
       "2  29851    6-2     225  1983-12-02      California       QB   Aaron Rodgers\n",
       "3  30842    6-6     267  1984-05-19            UCLA       TE  Marcedes Lewis\n",
       "4  33084    6-4     217  1985-05-17  Boston College       QB       Matt Ryan"
      ]
     },
     "execution_count": 4,
     "metadata": {},
     "output_type": "execute_result"
    }
   ],
   "source": [
    "players.head()"
   ]
  },
  {
   "cell_type": "code",
   "execution_count": 5,
   "id": "d38b8503",
   "metadata": {
    "execution": {
     "iopub.execute_input": "2024-01-07T17:34:57.580807Z",
     "iopub.status.busy": "2024-01-07T17:34:57.580352Z",
     "iopub.status.idle": "2024-01-07T17:34:57.587807Z",
     "shell.execute_reply": "2024-01-07T17:34:57.586856Z"
    },
    "papermill": {
     "duration": 0.030286,
     "end_time": "2024-01-07T17:34:57.590521",
     "exception": false,
     "start_time": "2024-01-07T17:34:57.560235",
     "status": "completed"
    },
    "tags": []
   },
   "outputs": [
    {
     "data": {
      "text/plain": [
       "1683"
      ]
     },
     "execution_count": 5,
     "metadata": {},
     "output_type": "execute_result"
    }
   ],
   "source": [
    "players.shape[0]"
   ]
  },
  {
   "cell_type": "code",
   "execution_count": 6,
   "id": "d57c98a8",
   "metadata": {
    "execution": {
     "iopub.execute_input": "2024-01-07T17:34:57.630760Z",
     "iopub.status.busy": "2024-01-07T17:34:57.629836Z",
     "iopub.status.idle": "2024-01-07T17:34:57.656063Z",
     "shell.execute_reply": "2024-01-07T17:34:57.654946Z"
    },
    "papermill": {
     "duration": 0.049374,
     "end_time": "2024-01-07T17:34:57.658977",
     "exception": false,
     "start_time": "2024-01-07T17:34:57.609603",
     "status": "completed"
    },
    "tags": []
   },
   "outputs": [
    {
     "data": {
      "text/html": [
       "<div>\n",
       "<style scoped>\n",
       "    .dataframe tbody tr th:only-of-type {\n",
       "        vertical-align: middle;\n",
       "    }\n",
       "\n",
       "    .dataframe tbody tr th {\n",
       "        vertical-align: top;\n",
       "    }\n",
       "\n",
       "    .dataframe thead th {\n",
       "        text-align: right;\n",
       "    }\n",
       "</style>\n",
       "<table border=\"1\" class=\"dataframe\">\n",
       "  <thead>\n",
       "    <tr style=\"text-align: right;\">\n",
       "      <th></th>\n",
       "      <th>gameId</th>\n",
       "      <th>playId</th>\n",
       "      <th>ballCarrierId</th>\n",
       "      <th>ballCarrierDisplayName</th>\n",
       "      <th>playDescription</th>\n",
       "      <th>quarter</th>\n",
       "      <th>down</th>\n",
       "      <th>yardsToGo</th>\n",
       "      <th>possessionTeam</th>\n",
       "      <th>defensiveTeam</th>\n",
       "      <th>...</th>\n",
       "      <th>preSnapVisitorTeamWinProbability</th>\n",
       "      <th>homeTeamWinProbabilityAdded</th>\n",
       "      <th>visitorTeamWinProbilityAdded</th>\n",
       "      <th>expectedPoints</th>\n",
       "      <th>expectedPointsAdded</th>\n",
       "      <th>foulName1</th>\n",
       "      <th>foulName2</th>\n",
       "      <th>foulNFLId1</th>\n",
       "      <th>foulNFLId2</th>\n",
       "      <th>gamePlayId</th>\n",
       "    </tr>\n",
       "  </thead>\n",
       "  <tbody>\n",
       "    <tr>\n",
       "      <th>0</th>\n",
       "      <td>2022100908</td>\n",
       "      <td>3537</td>\n",
       "      <td>48723</td>\n",
       "      <td>Parker Hesse</td>\n",
       "      <td>(7:52) (Shotgun) M.Mariota pass short middle t...</td>\n",
       "      <td>4</td>\n",
       "      <td>1</td>\n",
       "      <td>10</td>\n",
       "      <td>ATL</td>\n",
       "      <td>TB</td>\n",
       "      <td>...</td>\n",
       "      <td>0.023215</td>\n",
       "      <td>-0.006110</td>\n",
       "      <td>0.006110</td>\n",
       "      <td>2.360609</td>\n",
       "      <td>0.981955</td>\n",
       "      <td>NaN</td>\n",
       "      <td>NaN</td>\n",
       "      <td>NaN</td>\n",
       "      <td>NaN</td>\n",
       "      <td>2022104445</td>\n",
       "    </tr>\n",
       "    <tr>\n",
       "      <th>1</th>\n",
       "      <td>2022091103</td>\n",
       "      <td>3126</td>\n",
       "      <td>52457</td>\n",
       "      <td>Chase Claypool</td>\n",
       "      <td>(7:38) (Shotgun) C.Claypool right end to PIT 3...</td>\n",
       "      <td>4</td>\n",
       "      <td>1</td>\n",
       "      <td>10</td>\n",
       "      <td>PIT</td>\n",
       "      <td>CIN</td>\n",
       "      <td>...</td>\n",
       "      <td>0.839515</td>\n",
       "      <td>-0.010865</td>\n",
       "      <td>0.010865</td>\n",
       "      <td>1.733344</td>\n",
       "      <td>-0.263424</td>\n",
       "      <td>NaN</td>\n",
       "      <td>NaN</td>\n",
       "      <td>NaN</td>\n",
       "      <td>NaN</td>\n",
       "      <td>2022094229</td>\n",
       "    </tr>\n",
       "    <tr>\n",
       "      <th>2</th>\n",
       "      <td>2022091111</td>\n",
       "      <td>1148</td>\n",
       "      <td>42547</td>\n",
       "      <td>Darren Waller</td>\n",
       "      <td>(8:57) D.Carr pass short middle to D.Waller to...</td>\n",
       "      <td>2</td>\n",
       "      <td>2</td>\n",
       "      <td>5</td>\n",
       "      <td>LV</td>\n",
       "      <td>LAC</td>\n",
       "      <td>...</td>\n",
       "      <td>0.243339</td>\n",
       "      <td>-0.037409</td>\n",
       "      <td>0.037409</td>\n",
       "      <td>1.312855</td>\n",
       "      <td>1.133666</td>\n",
       "      <td>NaN</td>\n",
       "      <td>NaN</td>\n",
       "      <td>NaN</td>\n",
       "      <td>NaN</td>\n",
       "      <td>2022092259</td>\n",
       "    </tr>\n",
       "    <tr>\n",
       "      <th>3</th>\n",
       "      <td>2022100212</td>\n",
       "      <td>2007</td>\n",
       "      <td>46461</td>\n",
       "      <td>Mike Boone</td>\n",
       "      <td>(13:12) M.Boone left tackle to DEN 44 for 7 ya...</td>\n",
       "      <td>3</td>\n",
       "      <td>2</td>\n",
       "      <td>10</td>\n",
       "      <td>DEN</td>\n",
       "      <td>LV</td>\n",
       "      <td>...</td>\n",
       "      <td>0.379448</td>\n",
       "      <td>-0.002451</td>\n",
       "      <td>0.002451</td>\n",
       "      <td>1.641006</td>\n",
       "      <td>-0.043580</td>\n",
       "      <td>NaN</td>\n",
       "      <td>NaN</td>\n",
       "      <td>NaN</td>\n",
       "      <td>NaN</td>\n",
       "      <td>2022102219</td>\n",
       "    </tr>\n",
       "    <tr>\n",
       "      <th>4</th>\n",
       "      <td>2022091900</td>\n",
       "      <td>1372</td>\n",
       "      <td>47857</td>\n",
       "      <td>Devin Singletary</td>\n",
       "      <td>(8:33) D.Singletary right guard to TEN 32 for ...</td>\n",
       "      <td>2</td>\n",
       "      <td>1</td>\n",
       "      <td>10</td>\n",
       "      <td>BUF</td>\n",
       "      <td>TEN</td>\n",
       "      <td>...</td>\n",
       "      <td>0.163710</td>\n",
       "      <td>0.001053</td>\n",
       "      <td>-0.001053</td>\n",
       "      <td>3.686428</td>\n",
       "      <td>-0.167903</td>\n",
       "      <td>NaN</td>\n",
       "      <td>NaN</td>\n",
       "      <td>NaN</td>\n",
       "      <td>NaN</td>\n",
       "      <td>2022093272</td>\n",
       "    </tr>\n",
       "  </tbody>\n",
       "</table>\n",
       "<p>5 rows × 36 columns</p>\n",
       "</div>"
      ],
      "text/plain": [
       "       gameId  playId  ballCarrierId ballCarrierDisplayName  \\\n",
       "0  2022100908    3537          48723           Parker Hesse   \n",
       "1  2022091103    3126          52457         Chase Claypool   \n",
       "2  2022091111    1148          42547          Darren Waller   \n",
       "3  2022100212    2007          46461             Mike Boone   \n",
       "4  2022091900    1372          47857       Devin Singletary   \n",
       "\n",
       "                                     playDescription  quarter  down  \\\n",
       "0  (7:52) (Shotgun) M.Mariota pass short middle t...        4     1   \n",
       "1  (7:38) (Shotgun) C.Claypool right end to PIT 3...        4     1   \n",
       "2  (8:57) D.Carr pass short middle to D.Waller to...        2     2   \n",
       "3  (13:12) M.Boone left tackle to DEN 44 for 7 ya...        3     2   \n",
       "4  (8:33) D.Singletary right guard to TEN 32 for ...        2     1   \n",
       "\n",
       "   yardsToGo possessionTeam defensiveTeam  ...  \\\n",
       "0         10            ATL            TB  ...   \n",
       "1         10            PIT           CIN  ...   \n",
       "2          5             LV           LAC  ...   \n",
       "3         10            DEN            LV  ...   \n",
       "4         10            BUF           TEN  ...   \n",
       "\n",
       "  preSnapVisitorTeamWinProbability  homeTeamWinProbabilityAdded  \\\n",
       "0                         0.023215                    -0.006110   \n",
       "1                         0.839515                    -0.010865   \n",
       "2                         0.243339                    -0.037409   \n",
       "3                         0.379448                    -0.002451   \n",
       "4                         0.163710                     0.001053   \n",
       "\n",
       "  visitorTeamWinProbilityAdded  expectedPoints  expectedPointsAdded foulName1  \\\n",
       "0                     0.006110        2.360609             0.981955       NaN   \n",
       "1                     0.010865        1.733344            -0.263424       NaN   \n",
       "2                     0.037409        1.312855             1.133666       NaN   \n",
       "3                     0.002451        1.641006            -0.043580       NaN   \n",
       "4                    -0.001053        3.686428            -0.167903       NaN   \n",
       "\n",
       "   foulName2  foulNFLId1  foulNFLId2  gamePlayId  \n",
       "0        NaN         NaN         NaN  2022104445  \n",
       "1        NaN         NaN         NaN  2022094229  \n",
       "2        NaN         NaN         NaN  2022092259  \n",
       "3        NaN         NaN         NaN  2022102219  \n",
       "4        NaN         NaN         NaN  2022093272  \n",
       "\n",
       "[5 rows x 36 columns]"
      ]
     },
     "execution_count": 6,
     "metadata": {},
     "output_type": "execute_result"
    }
   ],
   "source": [
    "plays.head()"
   ]
  },
  {
   "cell_type": "code",
   "execution_count": 7,
   "id": "76dc10d4",
   "metadata": {
    "execution": {
     "iopub.execute_input": "2024-01-07T17:34:57.699169Z",
     "iopub.status.busy": "2024-01-07T17:34:57.698721Z",
     "iopub.status.idle": "2024-01-07T17:34:57.714982Z",
     "shell.execute_reply": "2024-01-07T17:34:57.713403Z"
    },
    "papermill": {
     "duration": 0.039816,
     "end_time": "2024-01-07T17:34:57.717862",
     "exception": false,
     "start_time": "2024-01-07T17:34:57.678046",
     "status": "completed"
    },
    "tags": []
   },
   "outputs": [
    {
     "data": {
      "text/html": [
       "<div>\n",
       "<style scoped>\n",
       "    .dataframe tbody tr th:only-of-type {\n",
       "        vertical-align: middle;\n",
       "    }\n",
       "\n",
       "    .dataframe tbody tr th {\n",
       "        vertical-align: top;\n",
       "    }\n",
       "\n",
       "    .dataframe thead th {\n",
       "        text-align: right;\n",
       "    }\n",
       "</style>\n",
       "<table border=\"1\" class=\"dataframe\">\n",
       "  <thead>\n",
       "    <tr style=\"text-align: right;\">\n",
       "      <th></th>\n",
       "      <th>gameId</th>\n",
       "      <th>playId</th>\n",
       "      <th>nflId</th>\n",
       "      <th>tackle</th>\n",
       "      <th>assist</th>\n",
       "      <th>forcedFumble</th>\n",
       "      <th>pff_missedTackle</th>\n",
       "      <th>gamePlayId</th>\n",
       "    </tr>\n",
       "  </thead>\n",
       "  <tbody>\n",
       "    <tr>\n",
       "      <th>0</th>\n",
       "      <td>2022090800</td>\n",
       "      <td>101</td>\n",
       "      <td>42816</td>\n",
       "      <td>1</td>\n",
       "      <td>0</td>\n",
       "      <td>0</td>\n",
       "      <td>0</td>\n",
       "      <td>2022090901</td>\n",
       "    </tr>\n",
       "    <tr>\n",
       "      <th>1</th>\n",
       "      <td>2022090800</td>\n",
       "      <td>393</td>\n",
       "      <td>46232</td>\n",
       "      <td>1</td>\n",
       "      <td>0</td>\n",
       "      <td>0</td>\n",
       "      <td>0</td>\n",
       "      <td>2022091193</td>\n",
       "    </tr>\n",
       "    <tr>\n",
       "      <th>2</th>\n",
       "      <td>2022090800</td>\n",
       "      <td>486</td>\n",
       "      <td>40166</td>\n",
       "      <td>1</td>\n",
       "      <td>0</td>\n",
       "      <td>0</td>\n",
       "      <td>0</td>\n",
       "      <td>2022091286</td>\n",
       "    </tr>\n",
       "    <tr>\n",
       "      <th>3</th>\n",
       "      <td>2022090800</td>\n",
       "      <td>646</td>\n",
       "      <td>47939</td>\n",
       "      <td>1</td>\n",
       "      <td>0</td>\n",
       "      <td>0</td>\n",
       "      <td>0</td>\n",
       "      <td>2022091446</td>\n",
       "    </tr>\n",
       "    <tr>\n",
       "      <th>4</th>\n",
       "      <td>2022090800</td>\n",
       "      <td>818</td>\n",
       "      <td>40107</td>\n",
       "      <td>1</td>\n",
       "      <td>0</td>\n",
       "      <td>0</td>\n",
       "      <td>0</td>\n",
       "      <td>2022091618</td>\n",
       "    </tr>\n",
       "  </tbody>\n",
       "</table>\n",
       "</div>"
      ],
      "text/plain": [
       "       gameId  playId  nflId  tackle  assist  forcedFumble  pff_missedTackle  \\\n",
       "0  2022090800     101  42816       1       0             0                 0   \n",
       "1  2022090800     393  46232       1       0             0                 0   \n",
       "2  2022090800     486  40166       1       0             0                 0   \n",
       "3  2022090800     646  47939       1       0             0                 0   \n",
       "4  2022090800     818  40107       1       0             0                 0   \n",
       "\n",
       "   gamePlayId  \n",
       "0  2022090901  \n",
       "1  2022091193  \n",
       "2  2022091286  \n",
       "3  2022091446  \n",
       "4  2022091618  "
      ]
     },
     "execution_count": 7,
     "metadata": {},
     "output_type": "execute_result"
    }
   ],
   "source": [
    "tackles.head()"
   ]
  },
  {
   "cell_type": "code",
   "execution_count": 8,
   "id": "4d9e75c8",
   "metadata": {
    "execution": {
     "iopub.execute_input": "2024-01-07T17:34:57.851420Z",
     "iopub.status.busy": "2024-01-07T17:34:57.850928Z",
     "iopub.status.idle": "2024-01-07T17:34:57.879168Z",
     "shell.execute_reply": "2024-01-07T17:34:57.877904Z"
    },
    "papermill": {
     "duration": 0.052316,
     "end_time": "2024-01-07T17:34:57.882047",
     "exception": false,
     "start_time": "2024-01-07T17:34:57.829731",
     "status": "completed"
    },
    "tags": []
   },
   "outputs": [
    {
     "data": {
      "text/html": [
       "<div>\n",
       "<style scoped>\n",
       "    .dataframe tbody tr th:only-of-type {\n",
       "        vertical-align: middle;\n",
       "    }\n",
       "\n",
       "    .dataframe tbody tr th {\n",
       "        vertical-align: top;\n",
       "    }\n",
       "\n",
       "    .dataframe thead th {\n",
       "        text-align: right;\n",
       "    }\n",
       "</style>\n",
       "<table border=\"1\" class=\"dataframe\">\n",
       "  <thead>\n",
       "    <tr style=\"text-align: right;\">\n",
       "      <th></th>\n",
       "      <th>gameId</th>\n",
       "      <th>playId</th>\n",
       "      <th>nflId</th>\n",
       "      <th>displayName</th>\n",
       "      <th>frameId</th>\n",
       "      <th>time</th>\n",
       "      <th>jerseyNumber</th>\n",
       "      <th>club</th>\n",
       "      <th>playDirection</th>\n",
       "      <th>x</th>\n",
       "      <th>y</th>\n",
       "      <th>s</th>\n",
       "      <th>a</th>\n",
       "      <th>dis</th>\n",
       "      <th>o</th>\n",
       "      <th>dir</th>\n",
       "      <th>event</th>\n",
       "    </tr>\n",
       "  </thead>\n",
       "  <tbody>\n",
       "    <tr>\n",
       "      <th>0</th>\n",
       "      <td>2022090800</td>\n",
       "      <td>56</td>\n",
       "      <td>35472.0</td>\n",
       "      <td>Rodger Saffold</td>\n",
       "      <td>1</td>\n",
       "      <td>2022-09-08 20:24:05.200000</td>\n",
       "      <td>76.0</td>\n",
       "      <td>BUF</td>\n",
       "      <td>left</td>\n",
       "      <td>88.37</td>\n",
       "      <td>27.27</td>\n",
       "      <td>1.62</td>\n",
       "      <td>1.15</td>\n",
       "      <td>0.16</td>\n",
       "      <td>231.74</td>\n",
       "      <td>147.90</td>\n",
       "      <td>NaN</td>\n",
       "    </tr>\n",
       "    <tr>\n",
       "      <th>1</th>\n",
       "      <td>2022090800</td>\n",
       "      <td>56</td>\n",
       "      <td>35472.0</td>\n",
       "      <td>Rodger Saffold</td>\n",
       "      <td>2</td>\n",
       "      <td>2022-09-08 20:24:05.299999</td>\n",
       "      <td>76.0</td>\n",
       "      <td>BUF</td>\n",
       "      <td>left</td>\n",
       "      <td>88.47</td>\n",
       "      <td>27.13</td>\n",
       "      <td>1.67</td>\n",
       "      <td>0.61</td>\n",
       "      <td>0.17</td>\n",
       "      <td>230.98</td>\n",
       "      <td>148.53</td>\n",
       "      <td>pass_arrived</td>\n",
       "    </tr>\n",
       "    <tr>\n",
       "      <th>2</th>\n",
       "      <td>2022090800</td>\n",
       "      <td>56</td>\n",
       "      <td>35472.0</td>\n",
       "      <td>Rodger Saffold</td>\n",
       "      <td>3</td>\n",
       "      <td>2022-09-08 20:24:05.400000</td>\n",
       "      <td>76.0</td>\n",
       "      <td>BUF</td>\n",
       "      <td>left</td>\n",
       "      <td>88.56</td>\n",
       "      <td>27.01</td>\n",
       "      <td>1.57</td>\n",
       "      <td>0.49</td>\n",
       "      <td>0.15</td>\n",
       "      <td>230.98</td>\n",
       "      <td>147.05</td>\n",
       "      <td>NaN</td>\n",
       "    </tr>\n",
       "    <tr>\n",
       "      <th>3</th>\n",
       "      <td>2022090800</td>\n",
       "      <td>56</td>\n",
       "      <td>35472.0</td>\n",
       "      <td>Rodger Saffold</td>\n",
       "      <td>4</td>\n",
       "      <td>2022-09-08 20:24:05.500000</td>\n",
       "      <td>76.0</td>\n",
       "      <td>BUF</td>\n",
       "      <td>left</td>\n",
       "      <td>88.64</td>\n",
       "      <td>26.90</td>\n",
       "      <td>1.44</td>\n",
       "      <td>0.89</td>\n",
       "      <td>0.14</td>\n",
       "      <td>232.38</td>\n",
       "      <td>145.42</td>\n",
       "      <td>NaN</td>\n",
       "    </tr>\n",
       "    <tr>\n",
       "      <th>4</th>\n",
       "      <td>2022090800</td>\n",
       "      <td>56</td>\n",
       "      <td>35472.0</td>\n",
       "      <td>Rodger Saffold</td>\n",
       "      <td>5</td>\n",
       "      <td>2022-09-08 20:24:05.599999</td>\n",
       "      <td>76.0</td>\n",
       "      <td>BUF</td>\n",
       "      <td>left</td>\n",
       "      <td>88.72</td>\n",
       "      <td>26.80</td>\n",
       "      <td>1.29</td>\n",
       "      <td>1.24</td>\n",
       "      <td>0.13</td>\n",
       "      <td>233.36</td>\n",
       "      <td>141.95</td>\n",
       "      <td>NaN</td>\n",
       "    </tr>\n",
       "  </tbody>\n",
       "</table>\n",
       "</div>"
      ],
      "text/plain": [
       "       gameId  playId    nflId     displayName  frameId  \\\n",
       "0  2022090800      56  35472.0  Rodger Saffold        1   \n",
       "1  2022090800      56  35472.0  Rodger Saffold        2   \n",
       "2  2022090800      56  35472.0  Rodger Saffold        3   \n",
       "3  2022090800      56  35472.0  Rodger Saffold        4   \n",
       "4  2022090800      56  35472.0  Rodger Saffold        5   \n",
       "\n",
       "                         time  jerseyNumber club playDirection      x      y  \\\n",
       "0  2022-09-08 20:24:05.200000          76.0  BUF          left  88.37  27.27   \n",
       "1  2022-09-08 20:24:05.299999          76.0  BUF          left  88.47  27.13   \n",
       "2  2022-09-08 20:24:05.400000          76.0  BUF          left  88.56  27.01   \n",
       "3  2022-09-08 20:24:05.500000          76.0  BUF          left  88.64  26.90   \n",
       "4  2022-09-08 20:24:05.599999          76.0  BUF          left  88.72  26.80   \n",
       "\n",
       "      s     a   dis       o     dir         event  \n",
       "0  1.62  1.15  0.16  231.74  147.90           NaN  \n",
       "1  1.67  0.61  0.17  230.98  148.53  pass_arrived  \n",
       "2  1.57  0.49  0.15  230.98  147.05           NaN  \n",
       "3  1.44  0.89  0.14  232.38  145.42           NaN  \n",
       "4  1.29  1.24  0.13  233.36  141.95           NaN  "
      ]
     },
     "execution_count": 8,
     "metadata": {},
     "output_type": "execute_result"
    }
   ],
   "source": [
    "tracking.head()"
   ]
  },
  {
   "cell_type": "markdown",
   "id": "e3ee715e",
   "metadata": {
    "papermill": {
     "duration": 0.019961,
     "end_time": "2024-01-07T17:34:57.923078",
     "exception": false,
     "start_time": "2024-01-07T17:34:57.903117",
     "status": "completed"
    },
    "tags": []
   },
   "source": [
    "From the above outputs, we are able to see every column within each dataframe. Immediate columns of interest to me are forcedFumble, assist, pff_missedTackle, and tackle."
   ]
  },
  {
   "cell_type": "code",
   "execution_count": 9,
   "id": "b022ceda",
   "metadata": {
    "execution": {
     "iopub.execute_input": "2024-01-07T17:34:57.965105Z",
     "iopub.status.busy": "2024-01-07T17:34:57.964670Z",
     "iopub.status.idle": "2024-01-07T17:34:57.995117Z",
     "shell.execute_reply": "2024-01-07T17:34:57.993889Z"
    },
    "papermill": {
     "duration": 0.054594,
     "end_time": "2024-01-07T17:34:57.997809",
     "exception": false,
     "start_time": "2024-01-07T17:34:57.943215",
     "status": "completed"
    },
    "tags": []
   },
   "outputs": [
    {
     "data": {
      "text/html": [
       "<div>\n",
       "<style scoped>\n",
       "    .dataframe tbody tr th:only-of-type {\n",
       "        vertical-align: middle;\n",
       "    }\n",
       "\n",
       "    .dataframe tbody tr th {\n",
       "        vertical-align: top;\n",
       "    }\n",
       "\n",
       "    .dataframe thead th {\n",
       "        text-align: right;\n",
       "    }\n",
       "</style>\n",
       "<table border=\"1\" class=\"dataframe\">\n",
       "  <thead>\n",
       "    <tr style=\"text-align: right;\">\n",
       "      <th></th>\n",
       "      <th>gameId</th>\n",
       "      <th>season</th>\n",
       "      <th>week</th>\n",
       "      <th>homeFinalScore</th>\n",
       "      <th>visitorFinalScore</th>\n",
       "    </tr>\n",
       "  </thead>\n",
       "  <tbody>\n",
       "    <tr>\n",
       "      <th>count</th>\n",
       "      <td>1.360000e+02</td>\n",
       "      <td>136.0</td>\n",
       "      <td>136.000000</td>\n",
       "      <td>136.000000</td>\n",
       "      <td>136.000000</td>\n",
       "    </tr>\n",
       "    <tr>\n",
       "      <th>mean</th>\n",
       "      <td>2.022099e+09</td>\n",
       "      <td>2022.0</td>\n",
       "      <td>4.845588</td>\n",
       "      <td>22.669118</td>\n",
       "      <td>20.948529</td>\n",
       "    </tr>\n",
       "    <tr>\n",
       "      <th>std</th>\n",
       "      <td>5.996614e+03</td>\n",
       "      <td>0.0</td>\n",
       "      <td>2.567254</td>\n",
       "      <td>8.659874</td>\n",
       "      <td>9.731446</td>\n",
       "    </tr>\n",
       "    <tr>\n",
       "      <th>min</th>\n",
       "      <td>2.022091e+09</td>\n",
       "      <td>2022.0</td>\n",
       "      <td>1.000000</td>\n",
       "      <td>3.000000</td>\n",
       "      <td>0.000000</td>\n",
       "    </tr>\n",
       "    <tr>\n",
       "      <th>25%</th>\n",
       "      <td>2.022093e+09</td>\n",
       "      <td>2022.0</td>\n",
       "      <td>3.000000</td>\n",
       "      <td>17.000000</td>\n",
       "      <td>14.750000</td>\n",
       "    </tr>\n",
       "    <tr>\n",
       "      <th>50%</th>\n",
       "      <td>2.022101e+09</td>\n",
       "      <td>2022.0</td>\n",
       "      <td>5.000000</td>\n",
       "      <td>22.500000</td>\n",
       "      <td>20.000000</td>\n",
       "    </tr>\n",
       "    <tr>\n",
       "      <th>75%</th>\n",
       "      <td>2.022102e+09</td>\n",
       "      <td>2022.0</td>\n",
       "      <td>7.000000</td>\n",
       "      <td>27.000000</td>\n",
       "      <td>27.000000</td>\n",
       "    </tr>\n",
       "    <tr>\n",
       "      <th>max</th>\n",
       "      <td>2.022111e+09</td>\n",
       "      <td>2022.0</td>\n",
       "      <td>9.000000</td>\n",
       "      <td>49.000000</td>\n",
       "      <td>48.000000</td>\n",
       "    </tr>\n",
       "  </tbody>\n",
       "</table>\n",
       "</div>"
      ],
      "text/plain": [
       "             gameId  season        week  homeFinalScore  visitorFinalScore\n",
       "count  1.360000e+02   136.0  136.000000      136.000000         136.000000\n",
       "mean   2.022099e+09  2022.0    4.845588       22.669118          20.948529\n",
       "std    5.996614e+03     0.0    2.567254        8.659874           9.731446\n",
       "min    2.022091e+09  2022.0    1.000000        3.000000           0.000000\n",
       "25%    2.022093e+09  2022.0    3.000000       17.000000          14.750000\n",
       "50%    2.022101e+09  2022.0    5.000000       22.500000          20.000000\n",
       "75%    2.022102e+09  2022.0    7.000000       27.000000          27.000000\n",
       "max    2.022111e+09  2022.0    9.000000       49.000000          48.000000"
      ]
     },
     "execution_count": 9,
     "metadata": {},
     "output_type": "execute_result"
    }
   ],
   "source": [
    "# Describe each data frame for quick insights\n",
    "games.describe()"
   ]
  },
  {
   "cell_type": "code",
   "execution_count": 10,
   "id": "fb566030",
   "metadata": {
    "execution": {
     "iopub.execute_input": "2024-01-07T17:34:58.041437Z",
     "iopub.status.busy": "2024-01-07T17:34:58.040654Z",
     "iopub.status.idle": "2024-01-07T17:34:58.059153Z",
     "shell.execute_reply": "2024-01-07T17:34:58.057807Z"
    },
    "papermill": {
     "duration": 0.043944,
     "end_time": "2024-01-07T17:34:58.061948",
     "exception": false,
     "start_time": "2024-01-07T17:34:58.018004",
     "status": "completed"
    },
    "tags": []
   },
   "outputs": [
    {
     "data": {
      "text/html": [
       "<div>\n",
       "<style scoped>\n",
       "    .dataframe tbody tr th:only-of-type {\n",
       "        vertical-align: middle;\n",
       "    }\n",
       "\n",
       "    .dataframe tbody tr th {\n",
       "        vertical-align: top;\n",
       "    }\n",
       "\n",
       "    .dataframe thead th {\n",
       "        text-align: right;\n",
       "    }\n",
       "</style>\n",
       "<table border=\"1\" class=\"dataframe\">\n",
       "  <thead>\n",
       "    <tr style=\"text-align: right;\">\n",
       "      <th></th>\n",
       "      <th>nflId</th>\n",
       "      <th>weight</th>\n",
       "    </tr>\n",
       "  </thead>\n",
       "  <tbody>\n",
       "    <tr>\n",
       "      <th>count</th>\n",
       "      <td>1683.000000</td>\n",
       "      <td>1683.000000</td>\n",
       "    </tr>\n",
       "    <tr>\n",
       "      <th>mean</th>\n",
       "      <td>48221.702317</td>\n",
       "      <td>245.724302</td>\n",
       "    </tr>\n",
       "    <tr>\n",
       "      <th>std</th>\n",
       "      <td>5217.040133</td>\n",
       "      <td>47.119299</td>\n",
       "    </tr>\n",
       "    <tr>\n",
       "      <th>min</th>\n",
       "      <td>25511.000000</td>\n",
       "      <td>153.000000</td>\n",
       "    </tr>\n",
       "    <tr>\n",
       "      <th>25%</th>\n",
       "      <td>44828.500000</td>\n",
       "      <td>205.000000</td>\n",
       "    </tr>\n",
       "    <tr>\n",
       "      <th>50%</th>\n",
       "      <td>47872.000000</td>\n",
       "      <td>236.000000</td>\n",
       "    </tr>\n",
       "    <tr>\n",
       "      <th>75%</th>\n",
       "      <td>53471.500000</td>\n",
       "      <td>290.000000</td>\n",
       "    </tr>\n",
       "    <tr>\n",
       "      <th>max</th>\n",
       "      <td>55241.000000</td>\n",
       "      <td>380.000000</td>\n",
       "    </tr>\n",
       "  </tbody>\n",
       "</table>\n",
       "</div>"
      ],
      "text/plain": [
       "              nflId       weight\n",
       "count   1683.000000  1683.000000\n",
       "mean   48221.702317   245.724302\n",
       "std     5217.040133    47.119299\n",
       "min    25511.000000   153.000000\n",
       "25%    44828.500000   205.000000\n",
       "50%    47872.000000   236.000000\n",
       "75%    53471.500000   290.000000\n",
       "max    55241.000000   380.000000"
      ]
     },
     "execution_count": 10,
     "metadata": {},
     "output_type": "execute_result"
    }
   ],
   "source": [
    "players.describe()"
   ]
  },
  {
   "cell_type": "code",
   "execution_count": 11,
   "id": "849d0e53",
   "metadata": {
    "execution": {
     "iopub.execute_input": "2024-01-07T17:34:58.105900Z",
     "iopub.status.busy": "2024-01-07T17:34:58.105423Z",
     "iopub.status.idle": "2024-01-07T17:34:58.207244Z",
     "shell.execute_reply": "2024-01-07T17:34:58.205947Z"
    },
    "papermill": {
     "duration": 0.127746,
     "end_time": "2024-01-07T17:34:58.210583",
     "exception": false,
     "start_time": "2024-01-07T17:34:58.082837",
     "status": "completed"
    },
    "tags": []
   },
   "outputs": [
    {
     "data": {
      "text/html": [
       "<div>\n",
       "<style scoped>\n",
       "    .dataframe tbody tr th:only-of-type {\n",
       "        vertical-align: middle;\n",
       "    }\n",
       "\n",
       "    .dataframe tbody tr th {\n",
       "        vertical-align: top;\n",
       "    }\n",
       "\n",
       "    .dataframe thead th {\n",
       "        text-align: right;\n",
       "    }\n",
       "</style>\n",
       "<table border=\"1\" class=\"dataframe\">\n",
       "  <thead>\n",
       "    <tr style=\"text-align: right;\">\n",
       "      <th></th>\n",
       "      <th>gameId</th>\n",
       "      <th>playId</th>\n",
       "      <th>ballCarrierId</th>\n",
       "      <th>quarter</th>\n",
       "      <th>down</th>\n",
       "      <th>yardsToGo</th>\n",
       "      <th>yardlineNumber</th>\n",
       "      <th>preSnapHomeScore</th>\n",
       "      <th>preSnapVisitorScore</th>\n",
       "      <th>passLength</th>\n",
       "      <th>...</th>\n",
       "      <th>passProbability</th>\n",
       "      <th>preSnapHomeTeamWinProbability</th>\n",
       "      <th>preSnapVisitorTeamWinProbability</th>\n",
       "      <th>homeTeamWinProbabilityAdded</th>\n",
       "      <th>visitorTeamWinProbilityAdded</th>\n",
       "      <th>expectedPoints</th>\n",
       "      <th>expectedPointsAdded</th>\n",
       "      <th>foulNFLId1</th>\n",
       "      <th>foulNFLId2</th>\n",
       "      <th>gamePlayId</th>\n",
       "    </tr>\n",
       "  </thead>\n",
       "  <tbody>\n",
       "    <tr>\n",
       "      <th>count</th>\n",
       "      <td>1.248600e+04</td>\n",
       "      <td>12486.000000</td>\n",
       "      <td>12486.000000</td>\n",
       "      <td>12486.000000</td>\n",
       "      <td>12486.000000</td>\n",
       "      <td>12486.000000</td>\n",
       "      <td>12486.000000</td>\n",
       "      <td>12486.000000</td>\n",
       "      <td>12486.000000</td>\n",
       "      <td>5634.000000</td>\n",
       "      <td>...</td>\n",
       "      <td>12149.000000</td>\n",
       "      <td>12486.000000</td>\n",
       "      <td>12486.000000</td>\n",
       "      <td>12486.000000</td>\n",
       "      <td>12486.000000</td>\n",
       "      <td>12486.000000</td>\n",
       "      <td>12485.000000</td>\n",
       "      <td>592.000000</td>\n",
       "      <td>25.00000</td>\n",
       "      <td>1.248600e+04</td>\n",
       "    </tr>\n",
       "    <tr>\n",
       "      <th>mean</th>\n",
       "      <td>2.022099e+09</td>\n",
       "      <td>1986.603476</td>\n",
       "      <td>48072.271664</td>\n",
       "      <td>2.550136</td>\n",
       "      <td>1.727054</td>\n",
       "      <td>8.469085</td>\n",
       "      <td>29.573122</td>\n",
       "      <td>11.170671</td>\n",
       "      <td>9.862967</td>\n",
       "      <td>5.455982</td>\n",
       "      <td>...</td>\n",
       "      <td>0.603845</td>\n",
       "      <td>0.556236</td>\n",
       "      <td>0.443764</td>\n",
       "      <td>0.000110</td>\n",
       "      <td>-0.000110</td>\n",
       "      <td>2.258360</td>\n",
       "      <td>0.297367</td>\n",
       "      <td>47759.856419</td>\n",
       "      <td>50000.56000</td>\n",
       "      <td>2.022101e+09</td>\n",
       "    </tr>\n",
       "    <tr>\n",
       "      <th>std</th>\n",
       "      <td>5.953106e+03</td>\n",
       "      <td>1174.657363</td>\n",
       "      <td>4648.681597</td>\n",
       "      <td>1.136714</td>\n",
       "      <td>0.793536</td>\n",
       "      <td>3.927737</td>\n",
       "      <td>12.446971</td>\n",
       "      <td>9.442045</td>\n",
       "      <td>9.142307</td>\n",
       "      <td>8.258211</td>\n",
       "      <td>...</td>\n",
       "      <td>0.237096</td>\n",
       "      <td>0.287751</td>\n",
       "      <td>0.287751</td>\n",
       "      <td>0.036748</td>\n",
       "      <td>0.036748</td>\n",
       "      <td>1.619769</td>\n",
       "      <td>1.194641</td>\n",
       "      <td>5010.592593</td>\n",
       "      <td>3494.05977</td>\n",
       "      <td>6.048135e+03</td>\n",
       "    </tr>\n",
       "    <tr>\n",
       "      <th>min</th>\n",
       "      <td>2.022091e+09</td>\n",
       "      <td>54.000000</td>\n",
       "      <td>25511.000000</td>\n",
       "      <td>1.000000</td>\n",
       "      <td>1.000000</td>\n",
       "      <td>1.000000</td>\n",
       "      <td>1.000000</td>\n",
       "      <td>0.000000</td>\n",
       "      <td>0.000000</td>\n",
       "      <td>-9.000000</td>\n",
       "      <td>...</td>\n",
       "      <td>0.005607</td>\n",
       "      <td>0.001049</td>\n",
       "      <td>0.000825</td>\n",
       "      <td>-0.521181</td>\n",
       "      <td>-0.471527</td>\n",
       "      <td>-2.366872</td>\n",
       "      <td>-9.986150</td>\n",
       "      <td>33107.000000</td>\n",
       "      <td>43586.00000</td>\n",
       "      <td>2.022091e+09</td>\n",
       "    </tr>\n",
       "    <tr>\n",
       "      <th>25%</th>\n",
       "      <td>2.022093e+09</td>\n",
       "      <td>954.000000</td>\n",
       "      <td>44860.000000</td>\n",
       "      <td>2.000000</td>\n",
       "      <td>1.000000</td>\n",
       "      <td>6.000000</td>\n",
       "      <td>21.000000</td>\n",
       "      <td>3.000000</td>\n",
       "      <td>0.000000</td>\n",
       "      <td>0.000000</td>\n",
       "      <td>...</td>\n",
       "      <td>0.447226</td>\n",
       "      <td>0.331557</td>\n",
       "      <td>0.207915</td>\n",
       "      <td>-0.011382</td>\n",
       "      <td>-0.011799</td>\n",
       "      <td>1.055965</td>\n",
       "      <td>-0.437525</td>\n",
       "      <td>43572.750000</td>\n",
       "      <td>47790.00000</td>\n",
       "      <td>2.022095e+09</td>\n",
       "    </tr>\n",
       "    <tr>\n",
       "      <th>50%</th>\n",
       "      <td>2.022101e+09</td>\n",
       "      <td>1990.500000</td>\n",
       "      <td>47789.000000</td>\n",
       "      <td>3.000000</td>\n",
       "      <td>2.000000</td>\n",
       "      <td>10.000000</td>\n",
       "      <td>30.000000</td>\n",
       "      <td>10.000000</td>\n",
       "      <td>7.000000</td>\n",
       "      <td>4.000000</td>\n",
       "      <td>...</td>\n",
       "      <td>0.584451</td>\n",
       "      <td>0.585621</td>\n",
       "      <td>0.414379</td>\n",
       "      <td>0.000008</td>\n",
       "      <td>-0.000008</td>\n",
       "      <td>2.031321</td>\n",
       "      <td>0.112532</td>\n",
       "      <td>47793.500000</td>\n",
       "      <td>48089.00000</td>\n",
       "      <td>2.022103e+09</td>\n",
       "    </tr>\n",
       "    <tr>\n",
       "      <th>75%</th>\n",
       "      <td>2.022102e+09</td>\n",
       "      <td>2989.000000</td>\n",
       "      <td>52733.000000</td>\n",
       "      <td>4.000000</td>\n",
       "      <td>2.000000</td>\n",
       "      <td>10.000000</td>\n",
       "      <td>40.000000</td>\n",
       "      <td>17.000000</td>\n",
       "      <td>16.000000</td>\n",
       "      <td>9.000000</td>\n",
       "      <td>...</td>\n",
       "      <td>0.792913</td>\n",
       "      <td>0.792085</td>\n",
       "      <td>0.668443</td>\n",
       "      <td>0.011799</td>\n",
       "      <td>0.011382</td>\n",
       "      <td>3.451942</td>\n",
       "      <td>0.899947</td>\n",
       "      <td>53063.000000</td>\n",
       "      <td>52553.00000</td>\n",
       "      <td>2.022105e+09</td>\n",
       "    </tr>\n",
       "    <tr>\n",
       "      <th>max</th>\n",
       "      <td>2.022111e+09</td>\n",
       "      <td>5096.000000</td>\n",
       "      <td>55158.000000</td>\n",
       "      <td>5.000000</td>\n",
       "      <td>4.000000</td>\n",
       "      <td>38.000000</td>\n",
       "      <td>50.000000</td>\n",
       "      <td>49.000000</td>\n",
       "      <td>48.000000</td>\n",
       "      <td>61.000000</td>\n",
       "      <td>...</td>\n",
       "      <td>0.996206</td>\n",
       "      <td>0.999175</td>\n",
       "      <td>0.998951</td>\n",
       "      <td>0.471527</td>\n",
       "      <td>0.521181</td>\n",
       "      <td>6.558894</td>\n",
       "      <td>8.698986</td>\n",
       "      <td>55157.000000</td>\n",
       "      <td>54650.00000</td>\n",
       "      <td>2.022115e+09</td>\n",
       "    </tr>\n",
       "  </tbody>\n",
       "</table>\n",
       "<p>8 rows × 25 columns</p>\n",
       "</div>"
      ],
      "text/plain": [
       "             gameId        playId  ballCarrierId       quarter          down  \\\n",
       "count  1.248600e+04  12486.000000   12486.000000  12486.000000  12486.000000   \n",
       "mean   2.022099e+09   1986.603476   48072.271664      2.550136      1.727054   \n",
       "std    5.953106e+03   1174.657363    4648.681597      1.136714      0.793536   \n",
       "min    2.022091e+09     54.000000   25511.000000      1.000000      1.000000   \n",
       "25%    2.022093e+09    954.000000   44860.000000      2.000000      1.000000   \n",
       "50%    2.022101e+09   1990.500000   47789.000000      3.000000      2.000000   \n",
       "75%    2.022102e+09   2989.000000   52733.000000      4.000000      2.000000   \n",
       "max    2.022111e+09   5096.000000   55158.000000      5.000000      4.000000   \n",
       "\n",
       "          yardsToGo  yardlineNumber  preSnapHomeScore  preSnapVisitorScore  \\\n",
       "count  12486.000000    12486.000000      12486.000000         12486.000000   \n",
       "mean       8.469085       29.573122         11.170671             9.862967   \n",
       "std        3.927737       12.446971          9.442045             9.142307   \n",
       "min        1.000000        1.000000          0.000000             0.000000   \n",
       "25%        6.000000       21.000000          3.000000             0.000000   \n",
       "50%       10.000000       30.000000         10.000000             7.000000   \n",
       "75%       10.000000       40.000000         17.000000            16.000000   \n",
       "max       38.000000       50.000000         49.000000            48.000000   \n",
       "\n",
       "        passLength  ...  passProbability  preSnapHomeTeamWinProbability  \\\n",
       "count  5634.000000  ...     12149.000000                   12486.000000   \n",
       "mean      5.455982  ...         0.603845                       0.556236   \n",
       "std       8.258211  ...         0.237096                       0.287751   \n",
       "min      -9.000000  ...         0.005607                       0.001049   \n",
       "25%       0.000000  ...         0.447226                       0.331557   \n",
       "50%       4.000000  ...         0.584451                       0.585621   \n",
       "75%       9.000000  ...         0.792913                       0.792085   \n",
       "max      61.000000  ...         0.996206                       0.999175   \n",
       "\n",
       "       preSnapVisitorTeamWinProbability  homeTeamWinProbabilityAdded  \\\n",
       "count                      12486.000000                 12486.000000   \n",
       "mean                           0.443764                     0.000110   \n",
       "std                            0.287751                     0.036748   \n",
       "min                            0.000825                    -0.521181   \n",
       "25%                            0.207915                    -0.011382   \n",
       "50%                            0.414379                     0.000008   \n",
       "75%                            0.668443                     0.011799   \n",
       "max                            0.998951                     0.471527   \n",
       "\n",
       "       visitorTeamWinProbilityAdded  expectedPoints  expectedPointsAdded  \\\n",
       "count                  12486.000000    12486.000000         12485.000000   \n",
       "mean                      -0.000110        2.258360             0.297367   \n",
       "std                        0.036748        1.619769             1.194641   \n",
       "min                       -0.471527       -2.366872            -9.986150   \n",
       "25%                       -0.011799        1.055965            -0.437525   \n",
       "50%                       -0.000008        2.031321             0.112532   \n",
       "75%                        0.011382        3.451942             0.899947   \n",
       "max                        0.521181        6.558894             8.698986   \n",
       "\n",
       "         foulNFLId1   foulNFLId2    gamePlayId  \n",
       "count    592.000000     25.00000  1.248600e+04  \n",
       "mean   47759.856419  50000.56000  2.022101e+09  \n",
       "std     5010.592593   3494.05977  6.048135e+03  \n",
       "min    33107.000000  43586.00000  2.022091e+09  \n",
       "25%    43572.750000  47790.00000  2.022095e+09  \n",
       "50%    47793.500000  48089.00000  2.022103e+09  \n",
       "75%    53063.000000  52553.00000  2.022105e+09  \n",
       "max    55157.000000  54650.00000  2.022115e+09  \n",
       "\n",
       "[8 rows x 25 columns]"
      ]
     },
     "execution_count": 11,
     "metadata": {},
     "output_type": "execute_result"
    }
   ],
   "source": [
    "plays.describe()"
   ]
  },
  {
   "cell_type": "code",
   "execution_count": 12,
   "id": "ee270e3c",
   "metadata": {
    "execution": {
     "iopub.execute_input": "2024-01-07T17:34:58.255835Z",
     "iopub.status.busy": "2024-01-07T17:34:58.255347Z",
     "iopub.status.idle": "2024-01-07T17:34:58.297567Z",
     "shell.execute_reply": "2024-01-07T17:34:58.296351Z"
    },
    "papermill": {
     "duration": 0.068019,
     "end_time": "2024-01-07T17:34:58.300576",
     "exception": false,
     "start_time": "2024-01-07T17:34:58.232557",
     "status": "completed"
    },
    "tags": []
   },
   "outputs": [
    {
     "data": {
      "text/html": [
       "<div>\n",
       "<style scoped>\n",
       "    .dataframe tbody tr th:only-of-type {\n",
       "        vertical-align: middle;\n",
       "    }\n",
       "\n",
       "    .dataframe tbody tr th {\n",
       "        vertical-align: top;\n",
       "    }\n",
       "\n",
       "    .dataframe thead th {\n",
       "        text-align: right;\n",
       "    }\n",
       "</style>\n",
       "<table border=\"1\" class=\"dataframe\">\n",
       "  <thead>\n",
       "    <tr style=\"text-align: right;\">\n",
       "      <th></th>\n",
       "      <th>gameId</th>\n",
       "      <th>playId</th>\n",
       "      <th>nflId</th>\n",
       "      <th>tackle</th>\n",
       "      <th>assist</th>\n",
       "      <th>forcedFumble</th>\n",
       "      <th>pff_missedTackle</th>\n",
       "      <th>gamePlayId</th>\n",
       "    </tr>\n",
       "  </thead>\n",
       "  <tbody>\n",
       "    <tr>\n",
       "      <th>count</th>\n",
       "      <td>1.742600e+04</td>\n",
       "      <td>17426.000000</td>\n",
       "      <td>17426.000000</td>\n",
       "      <td>17426.000000</td>\n",
       "      <td>17426.000000</td>\n",
       "      <td>17426.000000</td>\n",
       "      <td>17426.000000</td>\n",
       "      <td>1.742600e+04</td>\n",
       "    </tr>\n",
       "    <tr>\n",
       "      <th>mean</th>\n",
       "      <td>2.022099e+09</td>\n",
       "      <td>1982.974578</td>\n",
       "      <td>47602.719442</td>\n",
       "      <td>0.569207</td>\n",
       "      <td>0.315276</td>\n",
       "      <td>0.005681</td>\n",
       "      <td>0.119936</td>\n",
       "      <td>2.022101e+09</td>\n",
       "    </tr>\n",
       "    <tr>\n",
       "      <th>std</th>\n",
       "      <td>5.978775e+03</td>\n",
       "      <td>1170.990596</td>\n",
       "      <td>4846.585868</td>\n",
       "      <td>0.495201</td>\n",
       "      <td>0.464639</td>\n",
       "      <td>0.075161</td>\n",
       "      <td>0.324896</td>\n",
       "      <td>6.073165e+03</td>\n",
       "    </tr>\n",
       "    <tr>\n",
       "      <th>min</th>\n",
       "      <td>2.022091e+09</td>\n",
       "      <td>54.000000</td>\n",
       "      <td>33131.000000</td>\n",
       "      <td>0.000000</td>\n",
       "      <td>0.000000</td>\n",
       "      <td>0.000000</td>\n",
       "      <td>0.000000</td>\n",
       "      <td>2.022091e+09</td>\n",
       "    </tr>\n",
       "    <tr>\n",
       "      <th>25%</th>\n",
       "      <td>2.022093e+09</td>\n",
       "      <td>952.000000</td>\n",
       "      <td>43797.000000</td>\n",
       "      <td>0.000000</td>\n",
       "      <td>0.000000</td>\n",
       "      <td>0.000000</td>\n",
       "      <td>0.000000</td>\n",
       "      <td>2.022095e+09</td>\n",
       "    </tr>\n",
       "    <tr>\n",
       "      <th>50%</th>\n",
       "      <td>2.022101e+09</td>\n",
       "      <td>1991.000000</td>\n",
       "      <td>46669.000000</td>\n",
       "      <td>1.000000</td>\n",
       "      <td>0.000000</td>\n",
       "      <td>0.000000</td>\n",
       "      <td>0.000000</td>\n",
       "      <td>2.022103e+09</td>\n",
       "    </tr>\n",
       "    <tr>\n",
       "      <th>75%</th>\n",
       "      <td>2.022102e+09</td>\n",
       "      <td>2981.750000</td>\n",
       "      <td>52546.000000</td>\n",
       "      <td>1.000000</td>\n",
       "      <td>1.000000</td>\n",
       "      <td>0.000000</td>\n",
       "      <td>0.000000</td>\n",
       "      <td>2.022105e+09</td>\n",
       "    </tr>\n",
       "    <tr>\n",
       "      <th>max</th>\n",
       "      <td>2.022111e+09</td>\n",
       "      <td>5096.000000</td>\n",
       "      <td>55241.000000</td>\n",
       "      <td>1.000000</td>\n",
       "      <td>1.000000</td>\n",
       "      <td>1.000000</td>\n",
       "      <td>1.000000</td>\n",
       "      <td>2.022115e+09</td>\n",
       "    </tr>\n",
       "  </tbody>\n",
       "</table>\n",
       "</div>"
      ],
      "text/plain": [
       "             gameId        playId         nflId        tackle        assist  \\\n",
       "count  1.742600e+04  17426.000000  17426.000000  17426.000000  17426.000000   \n",
       "mean   2.022099e+09   1982.974578  47602.719442      0.569207      0.315276   \n",
       "std    5.978775e+03   1170.990596   4846.585868      0.495201      0.464639   \n",
       "min    2.022091e+09     54.000000  33131.000000      0.000000      0.000000   \n",
       "25%    2.022093e+09    952.000000  43797.000000      0.000000      0.000000   \n",
       "50%    2.022101e+09   1991.000000  46669.000000      1.000000      0.000000   \n",
       "75%    2.022102e+09   2981.750000  52546.000000      1.000000      1.000000   \n",
       "max    2.022111e+09   5096.000000  55241.000000      1.000000      1.000000   \n",
       "\n",
       "       forcedFumble  pff_missedTackle    gamePlayId  \n",
       "count  17426.000000      17426.000000  1.742600e+04  \n",
       "mean       0.005681          0.119936  2.022101e+09  \n",
       "std        0.075161          0.324896  6.073165e+03  \n",
       "min        0.000000          0.000000  2.022091e+09  \n",
       "25%        0.000000          0.000000  2.022095e+09  \n",
       "50%        0.000000          0.000000  2.022103e+09  \n",
       "75%        0.000000          0.000000  2.022105e+09  \n",
       "max        1.000000          1.000000  2.022115e+09  "
      ]
     },
     "execution_count": 12,
     "metadata": {},
     "output_type": "execute_result"
    }
   ],
   "source": [
    "tackles.describe()"
   ]
  },
  {
   "cell_type": "markdown",
   "id": "f833195f",
   "metadata": {
    "papermill": {
     "duration": 0.021274,
     "end_time": "2024-01-07T17:34:58.343822",
     "exception": false,
     "start_time": "2024-01-07T17:34:58.322548",
     "status": "completed"
    },
    "tags": []
   },
   "source": [
    "From this output, we see that the average player weight is 245, the average tackle probability is 56.9%, the average probablity of an assist is 31.5%, the average forced fumble probablity is 0.57%, and the average missed tackle probablity is ~12%. I call out these items because these are data points I'm the most interested in.\n",
    "\n",
    "Now that I've explored the individual dataframes, I'm going to combine them into one for easier processing and analysis. I will do this using the primary keys of nflId, playId, and gameId across each dataframe."
   ]
  },
  {
   "cell_type": "code",
   "execution_count": 13,
   "id": "79ecd3c7",
   "metadata": {
    "execution": {
     "iopub.execute_input": "2024-01-07T17:34:58.389460Z",
     "iopub.status.busy": "2024-01-07T17:34:58.388948Z",
     "iopub.status.idle": "2024-01-07T17:34:58.468348Z",
     "shell.execute_reply": "2024-01-07T17:34:58.467151Z"
    },
    "papermill": {
     "duration": 0.105548,
     "end_time": "2024-01-07T17:34:58.471106",
     "exception": false,
     "start_time": "2024-01-07T17:34:58.365558",
     "status": "completed"
    },
    "tags": []
   },
   "outputs": [
    {
     "data": {
      "text/html": [
       "<div>\n",
       "<style scoped>\n",
       "    .dataframe tbody tr th:only-of-type {\n",
       "        vertical-align: middle;\n",
       "    }\n",
       "\n",
       "    .dataframe tbody tr th {\n",
       "        vertical-align: top;\n",
       "    }\n",
       "\n",
       "    .dataframe thead th {\n",
       "        text-align: right;\n",
       "    }\n",
       "</style>\n",
       "<table border=\"1\" class=\"dataframe\">\n",
       "  <thead>\n",
       "    <tr style=\"text-align: right;\">\n",
       "      <th></th>\n",
       "      <th>gameId</th>\n",
       "      <th>playId</th>\n",
       "      <th>nflId</th>\n",
       "      <th>tackle</th>\n",
       "      <th>assist</th>\n",
       "      <th>forcedFumble</th>\n",
       "      <th>pff_missedTackle</th>\n",
       "      <th>gamePlayId_x</th>\n",
       "      <th>height</th>\n",
       "      <th>weight</th>\n",
       "      <th>...</th>\n",
       "      <th>preSnapVisitorTeamWinProbability</th>\n",
       "      <th>homeTeamWinProbabilityAdded</th>\n",
       "      <th>visitorTeamWinProbilityAdded</th>\n",
       "      <th>expectedPoints</th>\n",
       "      <th>expectedPointsAdded</th>\n",
       "      <th>foulName1</th>\n",
       "      <th>foulName2</th>\n",
       "      <th>foulNFLId1</th>\n",
       "      <th>foulNFLId2</th>\n",
       "      <th>gamePlayId_y</th>\n",
       "    </tr>\n",
       "  </thead>\n",
       "  <tbody>\n",
       "    <tr>\n",
       "      <th>0</th>\n",
       "      <td>2022090800</td>\n",
       "      <td>101</td>\n",
       "      <td>42816</td>\n",
       "      <td>1</td>\n",
       "      <td>0</td>\n",
       "      <td>0</td>\n",
       "      <td>0</td>\n",
       "      <td>2022090901</td>\n",
       "      <td>5-11</td>\n",
       "      <td>184</td>\n",
       "      <td>...</td>\n",
       "      <td>0.600181</td>\n",
       "      <td>-0.014850</td>\n",
       "      <td>0.014850</td>\n",
       "      <td>2.126690</td>\n",
       "      <td>0.562363</td>\n",
       "      <td>NaN</td>\n",
       "      <td>NaN</td>\n",
       "      <td>NaN</td>\n",
       "      <td>NaN</td>\n",
       "      <td>2022090901</td>\n",
       "    </tr>\n",
       "    <tr>\n",
       "      <th>1</th>\n",
       "      <td>2022090800</td>\n",
       "      <td>1102</td>\n",
       "      <td>42816</td>\n",
       "      <td>1</td>\n",
       "      <td>0</td>\n",
       "      <td>0</td>\n",
       "      <td>0</td>\n",
       "      <td>2022091902</td>\n",
       "      <td>5-11</td>\n",
       "      <td>184</td>\n",
       "      <td>...</td>\n",
       "      <td>0.831442</td>\n",
       "      <td>0.001122</td>\n",
       "      <td>-0.001122</td>\n",
       "      <td>3.894043</td>\n",
       "      <td>-0.132479</td>\n",
       "      <td>NaN</td>\n",
       "      <td>NaN</td>\n",
       "      <td>NaN</td>\n",
       "      <td>NaN</td>\n",
       "      <td>2022091902</td>\n",
       "    </tr>\n",
       "    <tr>\n",
       "      <th>2</th>\n",
       "      <td>2022090800</td>\n",
       "      <td>1102</td>\n",
       "      <td>52492</td>\n",
       "      <td>0</td>\n",
       "      <td>0</td>\n",
       "      <td>0</td>\n",
       "      <td>1</td>\n",
       "      <td>2022091902</td>\n",
       "      <td>6-5</td>\n",
       "      <td>252</td>\n",
       "      <td>...</td>\n",
       "      <td>0.831442</td>\n",
       "      <td>0.001122</td>\n",
       "      <td>-0.001122</td>\n",
       "      <td>3.894043</td>\n",
       "      <td>-0.132479</td>\n",
       "      <td>NaN</td>\n",
       "      <td>NaN</td>\n",
       "      <td>NaN</td>\n",
       "      <td>NaN</td>\n",
       "      <td>2022091902</td>\n",
       "    </tr>\n",
       "    <tr>\n",
       "      <th>3</th>\n",
       "      <td>2022090800</td>\n",
       "      <td>2043</td>\n",
       "      <td>42816</td>\n",
       "      <td>1</td>\n",
       "      <td>0</td>\n",
       "      <td>0</td>\n",
       "      <td>0</td>\n",
       "      <td>2022092843</td>\n",
       "      <td>5-11</td>\n",
       "      <td>184</td>\n",
       "      <td>...</td>\n",
       "      <td>0.619052</td>\n",
       "      <td>-0.024323</td>\n",
       "      <td>0.024323</td>\n",
       "      <td>2.479935</td>\n",
       "      <td>0.674549</td>\n",
       "      <td>NaN</td>\n",
       "      <td>NaN</td>\n",
       "      <td>NaN</td>\n",
       "      <td>NaN</td>\n",
       "      <td>2022092843</td>\n",
       "    </tr>\n",
       "    <tr>\n",
       "      <th>4</th>\n",
       "      <td>2022090800</td>\n",
       "      <td>2527</td>\n",
       "      <td>42816</td>\n",
       "      <td>1</td>\n",
       "      <td>0</td>\n",
       "      <td>0</td>\n",
       "      <td>0</td>\n",
       "      <td>2022093327</td>\n",
       "      <td>5-11</td>\n",
       "      <td>184</td>\n",
       "      <td>...</td>\n",
       "      <td>0.815528</td>\n",
       "      <td>-0.031648</td>\n",
       "      <td>0.031648</td>\n",
       "      <td>0.267979</td>\n",
       "      <td>1.395048</td>\n",
       "      <td>NaN</td>\n",
       "      <td>NaN</td>\n",
       "      <td>NaN</td>\n",
       "      <td>NaN</td>\n",
       "      <td>2022093327</td>\n",
       "    </tr>\n",
       "  </tbody>\n",
       "</table>\n",
       "<p>5 rows × 56 columns</p>\n",
       "</div>"
      ],
      "text/plain": [
       "       gameId  playId  nflId  tackle  assist  forcedFumble  pff_missedTackle  \\\n",
       "0  2022090800     101  42816       1       0             0                 0   \n",
       "1  2022090800    1102  42816       1       0             0                 0   \n",
       "2  2022090800    1102  52492       0       0             0                 1   \n",
       "3  2022090800    2043  42816       1       0             0                 0   \n",
       "4  2022090800    2527  42816       1       0             0                 0   \n",
       "\n",
       "   gamePlayId_x height  weight  ... preSnapVisitorTeamWinProbability  \\\n",
       "0    2022090901   5-11     184  ...                         0.600181   \n",
       "1    2022091902   5-11     184  ...                         0.831442   \n",
       "2    2022091902    6-5     252  ...                         0.831442   \n",
       "3    2022092843   5-11     184  ...                         0.619052   \n",
       "4    2022093327   5-11     184  ...                         0.815528   \n",
       "\n",
       "  homeTeamWinProbabilityAdded visitorTeamWinProbilityAdded expectedPoints  \\\n",
       "0                   -0.014850                     0.014850       2.126690   \n",
       "1                    0.001122                    -0.001122       3.894043   \n",
       "2                    0.001122                    -0.001122       3.894043   \n",
       "3                   -0.024323                     0.024323       2.479935   \n",
       "4                   -0.031648                     0.031648       0.267979   \n",
       "\n",
       "   expectedPointsAdded  foulName1 foulName2 foulNFLId1 foulNFLId2 gamePlayId_y  \n",
       "0             0.562363        NaN       NaN        NaN        NaN   2022090901  \n",
       "1            -0.132479        NaN       NaN        NaN        NaN   2022091902  \n",
       "2            -0.132479        NaN       NaN        NaN        NaN   2022091902  \n",
       "3             0.674549        NaN       NaN        NaN        NaN   2022092843  \n",
       "4             1.395048        NaN       NaN        NaN        NaN   2022093327  \n",
       "\n",
       "[5 rows x 56 columns]"
      ]
     },
     "execution_count": 13,
     "metadata": {},
     "output_type": "execute_result"
    }
   ],
   "source": [
    "# Merge players and tackles dataframes\n",
    "combinedData = pd.merge(tackles, players, on=\"nflId\")\n",
    "\n",
    "# Merge with games\n",
    "combinedData = pd.merge(combinedData, games, on=\"gameId\")\n",
    "\n",
    "# Merge with plays\n",
    "combinedData = pd.merge(combinedData, plays, on=[\"gameId\",\"playId\"])\n",
    "\n",
    "# See output to confirm dataframes were properly combined\n",
    "combinedData.head()"
   ]
  },
  {
   "cell_type": "code",
   "execution_count": 14,
   "id": "6b4e1881",
   "metadata": {
    "execution": {
     "iopub.execute_input": "2024-01-07T17:34:58.518331Z",
     "iopub.status.busy": "2024-01-07T17:34:58.517855Z",
     "iopub.status.idle": "2024-01-07T17:34:58.525530Z",
     "shell.execute_reply": "2024-01-07T17:34:58.524362Z"
    },
    "papermill": {
     "duration": 0.03504,
     "end_time": "2024-01-07T17:34:58.528215",
     "exception": false,
     "start_time": "2024-01-07T17:34:58.493175",
     "status": "completed"
    },
    "tags": []
   },
   "outputs": [
    {
     "data": {
      "text/plain": [
       "17426"
      ]
     },
     "execution_count": 14,
     "metadata": {},
     "output_type": "execute_result"
    }
   ],
   "source": [
    "# Output the number of rows\n",
    "combinedData.shape[0]"
   ]
  },
  {
   "cell_type": "code",
   "execution_count": 15,
   "id": "c0a2eb4c",
   "metadata": {
    "execution": {
     "iopub.execute_input": "2024-01-07T17:34:58.575106Z",
     "iopub.status.busy": "2024-01-07T17:34:58.574595Z",
     "iopub.status.idle": "2024-01-07T17:34:58.586173Z",
     "shell.execute_reply": "2024-01-07T17:34:58.584880Z"
    },
    "papermill": {
     "duration": 0.037898,
     "end_time": "2024-01-07T17:34:58.588794",
     "exception": false,
     "start_time": "2024-01-07T17:34:58.550896",
     "status": "completed"
    },
    "tags": []
   },
   "outputs": [
    {
     "data": {
      "text/plain": [
       "gameId                                int64\n",
       "playId                                int64\n",
       "nflId                                 int64\n",
       "tackle                                int64\n",
       "assist                                int64\n",
       "forcedFumble                          int64\n",
       "pff_missedTackle                      int64\n",
       "gamePlayId_x                          int64\n",
       "height                               object\n",
       "weight                                int64\n",
       "birthDate                            object\n",
       "collegeName                          object\n",
       "position                             object\n",
       "displayName                          object\n",
       "season                                int64\n",
       "week                                  int64\n",
       "gameDate                             object\n",
       "gameTimeEastern                      object\n",
       "homeTeamAbbr                         object\n",
       "visitorTeamAbbr                      object\n",
       "homeFinalScore                        int64\n",
       "visitorFinalScore                     int64\n",
       "ballCarrierId                         int64\n",
       "ballCarrierDisplayName               object\n",
       "playDescription                      object\n",
       "quarter                               int64\n",
       "down                                  int64\n",
       "yardsToGo                             int64\n",
       "possessionTeam                       object\n",
       "defensiveTeam                        object\n",
       "yardlineSide                         object\n",
       "yardlineNumber                        int64\n",
       "gameClock                            object\n",
       "preSnapHomeScore                      int64\n",
       "preSnapVisitorScore                   int64\n",
       "passResult                           object\n",
       "passLength                          float64\n",
       "penaltyYards                        float64\n",
       "prePenaltyPlayResult                  int64\n",
       "playResult                            int64\n",
       "playNullifiedByPenalty               object\n",
       "absoluteYardlineNumber                int64\n",
       "offenseFormation                     object\n",
       "defendersInTheBox                   float64\n",
       "passProbability                     float64\n",
       "preSnapHomeTeamWinProbability       float64\n",
       "preSnapVisitorTeamWinProbability    float64\n",
       "homeTeamWinProbabilityAdded         float64\n",
       "visitorTeamWinProbilityAdded        float64\n",
       "expectedPoints                      float64\n",
       "expectedPointsAdded                 float64\n",
       "foulName1                            object\n",
       "foulName2                            object\n",
       "foulNFLId1                          float64\n",
       "foulNFLId2                          float64\n",
       "gamePlayId_y                          int64\n",
       "dtype: object"
      ]
     },
     "execution_count": 15,
     "metadata": {},
     "output_type": "execute_result"
    }
   ],
   "source": [
    "# Use dttypes to do a quick check of the datatype for each column\n",
    "# If there are glaring issues (something that should be numerical is a string or vice versa), I will need to convert\n",
    "combinedData.dtypes"
   ]
  },
  {
   "cell_type": "markdown",
   "id": "74512e9a",
   "metadata": {
    "papermill": {
     "duration": 0.022227,
     "end_time": "2024-01-07T17:34:58.633650",
     "exception": false,
     "start_time": "2024-01-07T17:34:58.611423",
     "status": "completed"
    },
    "tags": []
   },
   "source": [
    "The glaring issue with this datatype analysis is that height is an object, not an integer. I will write a function to convert this data point, ignoring any NA heights."
   ]
  },
  {
   "cell_type": "code",
   "execution_count": 16,
   "id": "196240df",
   "metadata": {
    "execution": {
     "iopub.execute_input": "2024-01-07T17:34:58.681439Z",
     "iopub.status.busy": "2024-01-07T17:34:58.680948Z",
     "iopub.status.idle": "2024-01-07T17:34:58.721414Z",
     "shell.execute_reply": "2024-01-07T17:34:58.719788Z"
    },
    "papermill": {
     "duration": 0.068115,
     "end_time": "2024-01-07T17:34:58.724542",
     "exception": false,
     "start_time": "2024-01-07T17:34:58.656427",
     "status": "completed"
    },
    "tags": []
   },
   "outputs": [],
   "source": [
    "# Convert the height column to inches\n",
    "def heightInInches(height):\n",
    "    if isinstance(height, str):\n",
    "        parts = height.split('-')\n",
    "        if len(parts) == 2:\n",
    "            feet, inches = int(parts[0]), int(parts[1])\n",
    "            return feet * 12 + inches\n",
    "    return height # if not string, return as is\n",
    "\n",
    "# Create a new column using this function\n",
    "combinedData[\"heightInInches\"] = combinedData[\"height\"].apply(heightInInches)\n"
   ]
  },
  {
   "cell_type": "markdown",
   "id": "e5d0ec2b",
   "metadata": {
    "papermill": {
     "duration": 0.022053,
     "end_time": "2024-01-07T17:34:58.769432",
     "exception": false,
     "start_time": "2024-01-07T17:34:58.747379",
     "status": "completed"
    },
    "tags": []
   },
   "source": [
    "I will now redescibe the combined dataframe to see what the average height is."
   ]
  },
  {
   "cell_type": "code",
   "execution_count": 17,
   "id": "40e89e04",
   "metadata": {
    "execution": {
     "iopub.execute_input": "2024-01-07T17:34:58.819867Z",
     "iopub.status.busy": "2024-01-07T17:34:58.819390Z",
     "iopub.status.idle": "2024-01-07T17:34:58.962624Z",
     "shell.execute_reply": "2024-01-07T17:34:58.961411Z"
    },
    "papermill": {
     "duration": 0.170944,
     "end_time": "2024-01-07T17:34:58.965904",
     "exception": false,
     "start_time": "2024-01-07T17:34:58.794960",
     "status": "completed"
    },
    "tags": []
   },
   "outputs": [
    {
     "data": {
      "text/html": [
       "<div>\n",
       "<style scoped>\n",
       "    .dataframe tbody tr th:only-of-type {\n",
       "        vertical-align: middle;\n",
       "    }\n",
       "\n",
       "    .dataframe tbody tr th {\n",
       "        vertical-align: top;\n",
       "    }\n",
       "\n",
       "    .dataframe thead th {\n",
       "        text-align: right;\n",
       "    }\n",
       "</style>\n",
       "<table border=\"1\" class=\"dataframe\">\n",
       "  <thead>\n",
       "    <tr style=\"text-align: right;\">\n",
       "      <th></th>\n",
       "      <th>gameId</th>\n",
       "      <th>playId</th>\n",
       "      <th>nflId</th>\n",
       "      <th>tackle</th>\n",
       "      <th>assist</th>\n",
       "      <th>forcedFumble</th>\n",
       "      <th>pff_missedTackle</th>\n",
       "      <th>gamePlayId_x</th>\n",
       "      <th>weight</th>\n",
       "      <th>season</th>\n",
       "      <th>...</th>\n",
       "      <th>preSnapHomeTeamWinProbability</th>\n",
       "      <th>preSnapVisitorTeamWinProbability</th>\n",
       "      <th>homeTeamWinProbabilityAdded</th>\n",
       "      <th>visitorTeamWinProbilityAdded</th>\n",
       "      <th>expectedPoints</th>\n",
       "      <th>expectedPointsAdded</th>\n",
       "      <th>foulNFLId1</th>\n",
       "      <th>foulNFLId2</th>\n",
       "      <th>gamePlayId_y</th>\n",
       "      <th>heightInInches</th>\n",
       "    </tr>\n",
       "  </thead>\n",
       "  <tbody>\n",
       "    <tr>\n",
       "      <th>count</th>\n",
       "      <td>1.742600e+04</td>\n",
       "      <td>17426.000000</td>\n",
       "      <td>17426.000000</td>\n",
       "      <td>17426.000000</td>\n",
       "      <td>17426.000000</td>\n",
       "      <td>17426.000000</td>\n",
       "      <td>17426.000000</td>\n",
       "      <td>1.742600e+04</td>\n",
       "      <td>17426.000000</td>\n",
       "      <td>17426.0</td>\n",
       "      <td>...</td>\n",
       "      <td>17426.000000</td>\n",
       "      <td>17426.000000</td>\n",
       "      <td>17426.000000</td>\n",
       "      <td>17426.000000</td>\n",
       "      <td>17426.000000</td>\n",
       "      <td>17424.000000</td>\n",
       "      <td>761.000000</td>\n",
       "      <td>31.000000</td>\n",
       "      <td>1.742600e+04</td>\n",
       "      <td>17426.000000</td>\n",
       "    </tr>\n",
       "    <tr>\n",
       "      <th>mean</th>\n",
       "      <td>2.022099e+09</td>\n",
       "      <td>1982.974578</td>\n",
       "      <td>47602.719442</td>\n",
       "      <td>0.569207</td>\n",
       "      <td>0.315276</td>\n",
       "      <td>0.005681</td>\n",
       "      <td>0.119936</td>\n",
       "      <td>2.022101e+09</td>\n",
       "      <td>232.930391</td>\n",
       "      <td>2022.0</td>\n",
       "      <td>...</td>\n",
       "      <td>0.558989</td>\n",
       "      <td>0.441011</td>\n",
       "      <td>-0.000067</td>\n",
       "      <td>0.000067</td>\n",
       "      <td>2.215160</td>\n",
       "      <td>0.242920</td>\n",
       "      <td>47765.601840</td>\n",
       "      <td>49575.258065</td>\n",
       "      <td>2.022101e+09</td>\n",
       "      <td>73.486859</td>\n",
       "    </tr>\n",
       "    <tr>\n",
       "      <th>std</th>\n",
       "      <td>5.978775e+03</td>\n",
       "      <td>1170.990596</td>\n",
       "      <td>4846.585868</td>\n",
       "      <td>0.495201</td>\n",
       "      <td>0.464639</td>\n",
       "      <td>0.075161</td>\n",
       "      <td>0.324896</td>\n",
       "      <td>6.073165e+03</td>\n",
       "      <td>39.927658</td>\n",
       "      <td>0.0</td>\n",
       "      <td>...</td>\n",
       "      <td>0.287481</td>\n",
       "      <td>0.287481</td>\n",
       "      <td>0.034437</td>\n",
       "      <td>0.034437</td>\n",
       "      <td>1.585774</td>\n",
       "      <td>1.136264</td>\n",
       "      <td>4987.646861</td>\n",
       "      <td>3570.559657</td>\n",
       "      <td>6.073165e+03</td>\n",
       "      <td>2.190753</td>\n",
       "    </tr>\n",
       "    <tr>\n",
       "      <th>min</th>\n",
       "      <td>2.022091e+09</td>\n",
       "      <td>54.000000</td>\n",
       "      <td>33131.000000</td>\n",
       "      <td>0.000000</td>\n",
       "      <td>0.000000</td>\n",
       "      <td>0.000000</td>\n",
       "      <td>0.000000</td>\n",
       "      <td>2.022091e+09</td>\n",
       "      <td>170.000000</td>\n",
       "      <td>2022.0</td>\n",
       "      <td>...</td>\n",
       "      <td>0.001049</td>\n",
       "      <td>0.000825</td>\n",
       "      <td>-0.521181</td>\n",
       "      <td>-0.410824</td>\n",
       "      <td>-2.366872</td>\n",
       "      <td>-9.986150</td>\n",
       "      <td>33107.000000</td>\n",
       "      <td>43586.000000</td>\n",
       "      <td>2.022091e+09</td>\n",
       "      <td>68.000000</td>\n",
       "    </tr>\n",
       "    <tr>\n",
       "      <th>25%</th>\n",
       "      <td>2.022093e+09</td>\n",
       "      <td>952.000000</td>\n",
       "      <td>43797.000000</td>\n",
       "      <td>0.000000</td>\n",
       "      <td>0.000000</td>\n",
       "      <td>0.000000</td>\n",
       "      <td>0.000000</td>\n",
       "      <td>2.022095e+09</td>\n",
       "      <td>200.000000</td>\n",
       "      <td>2022.0</td>\n",
       "      <td>...</td>\n",
       "      <td>0.336928</td>\n",
       "      <td>0.203547</td>\n",
       "      <td>-0.010758</td>\n",
       "      <td>-0.010872</td>\n",
       "      <td>1.046297</td>\n",
       "      <td>-0.445271</td>\n",
       "      <td>43503.000000</td>\n",
       "      <td>46527.000000</td>\n",
       "      <td>2.022095e+09</td>\n",
       "      <td>72.000000</td>\n",
       "    </tr>\n",
       "    <tr>\n",
       "      <th>50%</th>\n",
       "      <td>2.022101e+09</td>\n",
       "      <td>1991.000000</td>\n",
       "      <td>46669.000000</td>\n",
       "      <td>1.000000</td>\n",
       "      <td>0.000000</td>\n",
       "      <td>0.000000</td>\n",
       "      <td>0.000000</td>\n",
       "      <td>2.022103e+09</td>\n",
       "      <td>227.000000</td>\n",
       "      <td>2022.0</td>\n",
       "      <td>...</td>\n",
       "      <td>0.587105</td>\n",
       "      <td>0.412895</td>\n",
       "      <td>0.000007</td>\n",
       "      <td>-0.000007</td>\n",
       "      <td>1.992672</td>\n",
       "      <td>0.063363</td>\n",
       "      <td>47791.000000</td>\n",
       "      <td>47996.000000</td>\n",
       "      <td>2.022103e+09</td>\n",
       "      <td>73.000000</td>\n",
       "    </tr>\n",
       "    <tr>\n",
       "      <th>75%</th>\n",
       "      <td>2.022102e+09</td>\n",
       "      <td>2981.750000</td>\n",
       "      <td>52546.000000</td>\n",
       "      <td>1.000000</td>\n",
       "      <td>1.000000</td>\n",
       "      <td>0.000000</td>\n",
       "      <td>0.000000</td>\n",
       "      <td>2.022105e+09</td>\n",
       "      <td>252.000000</td>\n",
       "      <td>2022.0</td>\n",
       "      <td>...</td>\n",
       "      <td>0.796453</td>\n",
       "      <td>0.663072</td>\n",
       "      <td>0.010872</td>\n",
       "      <td>0.010758</td>\n",
       "      <td>3.360313</td>\n",
       "      <td>0.818275</td>\n",
       "      <td>53063.000000</td>\n",
       "      <td>53046.000000</td>\n",
       "      <td>2.022105e+09</td>\n",
       "      <td>75.000000</td>\n",
       "    </tr>\n",
       "    <tr>\n",
       "      <th>max</th>\n",
       "      <td>2.022111e+09</td>\n",
       "      <td>5096.000000</td>\n",
       "      <td>55241.000000</td>\n",
       "      <td>1.000000</td>\n",
       "      <td>1.000000</td>\n",
       "      <td>1.000000</td>\n",
       "      <td>1.000000</td>\n",
       "      <td>2.022115e+09</td>\n",
       "      <td>379.000000</td>\n",
       "      <td>2022.0</td>\n",
       "      <td>...</td>\n",
       "      <td>0.999175</td>\n",
       "      <td>0.998951</td>\n",
       "      <td>0.410824</td>\n",
       "      <td>0.521181</td>\n",
       "      <td>6.556614</td>\n",
       "      <td>7.130048</td>\n",
       "      <td>55157.000000</td>\n",
       "      <td>54650.000000</td>\n",
       "      <td>2.022115e+09</td>\n",
       "      <td>80.000000</td>\n",
       "    </tr>\n",
       "  </tbody>\n",
       "</table>\n",
       "<p>8 rows × 37 columns</p>\n",
       "</div>"
      ],
      "text/plain": [
       "             gameId        playId         nflId        tackle        assist  \\\n",
       "count  1.742600e+04  17426.000000  17426.000000  17426.000000  17426.000000   \n",
       "mean   2.022099e+09   1982.974578  47602.719442      0.569207      0.315276   \n",
       "std    5.978775e+03   1170.990596   4846.585868      0.495201      0.464639   \n",
       "min    2.022091e+09     54.000000  33131.000000      0.000000      0.000000   \n",
       "25%    2.022093e+09    952.000000  43797.000000      0.000000      0.000000   \n",
       "50%    2.022101e+09   1991.000000  46669.000000      1.000000      0.000000   \n",
       "75%    2.022102e+09   2981.750000  52546.000000      1.000000      1.000000   \n",
       "max    2.022111e+09   5096.000000  55241.000000      1.000000      1.000000   \n",
       "\n",
       "       forcedFumble  pff_missedTackle  gamePlayId_x        weight   season  \\\n",
       "count  17426.000000      17426.000000  1.742600e+04  17426.000000  17426.0   \n",
       "mean       0.005681          0.119936  2.022101e+09    232.930391   2022.0   \n",
       "std        0.075161          0.324896  6.073165e+03     39.927658      0.0   \n",
       "min        0.000000          0.000000  2.022091e+09    170.000000   2022.0   \n",
       "25%        0.000000          0.000000  2.022095e+09    200.000000   2022.0   \n",
       "50%        0.000000          0.000000  2.022103e+09    227.000000   2022.0   \n",
       "75%        0.000000          0.000000  2.022105e+09    252.000000   2022.0   \n",
       "max        1.000000          1.000000  2.022115e+09    379.000000   2022.0   \n",
       "\n",
       "       ...  preSnapHomeTeamWinProbability  preSnapVisitorTeamWinProbability  \\\n",
       "count  ...                   17426.000000                      17426.000000   \n",
       "mean   ...                       0.558989                          0.441011   \n",
       "std    ...                       0.287481                          0.287481   \n",
       "min    ...                       0.001049                          0.000825   \n",
       "25%    ...                       0.336928                          0.203547   \n",
       "50%    ...                       0.587105                          0.412895   \n",
       "75%    ...                       0.796453                          0.663072   \n",
       "max    ...                       0.999175                          0.998951   \n",
       "\n",
       "       homeTeamWinProbabilityAdded  visitorTeamWinProbilityAdded  \\\n",
       "count                 17426.000000                  17426.000000   \n",
       "mean                     -0.000067                      0.000067   \n",
       "std                       0.034437                      0.034437   \n",
       "min                      -0.521181                     -0.410824   \n",
       "25%                      -0.010758                     -0.010872   \n",
       "50%                       0.000007                     -0.000007   \n",
       "75%                       0.010872                      0.010758   \n",
       "max                       0.410824                      0.521181   \n",
       "\n",
       "       expectedPoints  expectedPointsAdded    foulNFLId1    foulNFLId2  \\\n",
       "count    17426.000000         17424.000000    761.000000     31.000000   \n",
       "mean         2.215160             0.242920  47765.601840  49575.258065   \n",
       "std          1.585774             1.136264   4987.646861   3570.559657   \n",
       "min         -2.366872            -9.986150  33107.000000  43586.000000   \n",
       "25%          1.046297            -0.445271  43503.000000  46527.000000   \n",
       "50%          1.992672             0.063363  47791.000000  47996.000000   \n",
       "75%          3.360313             0.818275  53063.000000  53046.000000   \n",
       "max          6.556614             7.130048  55157.000000  54650.000000   \n",
       "\n",
       "       gamePlayId_y  heightInInches  \n",
       "count  1.742600e+04    17426.000000  \n",
       "mean   2.022101e+09       73.486859  \n",
       "std    6.073165e+03        2.190753  \n",
       "min    2.022091e+09       68.000000  \n",
       "25%    2.022095e+09       72.000000  \n",
       "50%    2.022103e+09       73.000000  \n",
       "75%    2.022105e+09       75.000000  \n",
       "max    2.022115e+09       80.000000  \n",
       "\n",
       "[8 rows x 37 columns]"
      ]
     },
     "execution_count": 17,
     "metadata": {},
     "output_type": "execute_result"
    }
   ],
   "source": [
    "combinedData.describe()"
   ]
  },
  {
   "cell_type": "markdown",
   "id": "4060bc54",
   "metadata": {
    "papermill": {
     "duration": 0.022606,
     "end_time": "2024-01-07T17:34:59.011828",
     "exception": false,
     "start_time": "2024-01-07T17:34:58.989222",
     "status": "completed"
    },
    "tags": []
   },
   "source": [
    "The new column was added at the end of the dataframe, so I'm going to move it to be next to the original height column."
   ]
  },
  {
   "cell_type": "code",
   "execution_count": 18,
   "id": "1b055237",
   "metadata": {
    "execution": {
     "iopub.execute_input": "2024-01-07T17:34:59.060337Z",
     "iopub.status.busy": "2024-01-07T17:34:59.059880Z",
     "iopub.status.idle": "2024-01-07T17:34:59.087281Z",
     "shell.execute_reply": "2024-01-07T17:34:59.085994Z"
    },
    "papermill": {
     "duration": 0.055037,
     "end_time": "2024-01-07T17:34:59.089919",
     "exception": false,
     "start_time": "2024-01-07T17:34:59.034882",
     "status": "completed"
    },
    "tags": []
   },
   "outputs": [
    {
     "data": {
      "text/html": [
       "<div>\n",
       "<style scoped>\n",
       "    .dataframe tbody tr th:only-of-type {\n",
       "        vertical-align: middle;\n",
       "    }\n",
       "\n",
       "    .dataframe tbody tr th {\n",
       "        vertical-align: top;\n",
       "    }\n",
       "\n",
       "    .dataframe thead th {\n",
       "        text-align: right;\n",
       "    }\n",
       "</style>\n",
       "<table border=\"1\" class=\"dataframe\">\n",
       "  <thead>\n",
       "    <tr style=\"text-align: right;\">\n",
       "      <th></th>\n",
       "      <th>gameId</th>\n",
       "      <th>playId</th>\n",
       "      <th>nflId</th>\n",
       "      <th>tackle</th>\n",
       "      <th>assist</th>\n",
       "      <th>forcedFumble</th>\n",
       "      <th>pff_missedTackle</th>\n",
       "      <th>gamePlayId_x</th>\n",
       "      <th>heightInInches</th>\n",
       "      <th>height</th>\n",
       "      <th>...</th>\n",
       "      <th>preSnapVisitorTeamWinProbability</th>\n",
       "      <th>homeTeamWinProbabilityAdded</th>\n",
       "      <th>visitorTeamWinProbilityAdded</th>\n",
       "      <th>expectedPoints</th>\n",
       "      <th>expectedPointsAdded</th>\n",
       "      <th>foulName1</th>\n",
       "      <th>foulName2</th>\n",
       "      <th>foulNFLId1</th>\n",
       "      <th>foulNFLId2</th>\n",
       "      <th>gamePlayId_y</th>\n",
       "    </tr>\n",
       "  </thead>\n",
       "  <tbody>\n",
       "    <tr>\n",
       "      <th>0</th>\n",
       "      <td>2022090800</td>\n",
       "      <td>101</td>\n",
       "      <td>42816</td>\n",
       "      <td>1</td>\n",
       "      <td>0</td>\n",
       "      <td>0</td>\n",
       "      <td>0</td>\n",
       "      <td>2022090901</td>\n",
       "      <td>71</td>\n",
       "      <td>5-11</td>\n",
       "      <td>...</td>\n",
       "      <td>0.600181</td>\n",
       "      <td>-0.014850</td>\n",
       "      <td>0.014850</td>\n",
       "      <td>2.126690</td>\n",
       "      <td>0.562363</td>\n",
       "      <td>NaN</td>\n",
       "      <td>NaN</td>\n",
       "      <td>NaN</td>\n",
       "      <td>NaN</td>\n",
       "      <td>2022090901</td>\n",
       "    </tr>\n",
       "    <tr>\n",
       "      <th>1</th>\n",
       "      <td>2022090800</td>\n",
       "      <td>1102</td>\n",
       "      <td>42816</td>\n",
       "      <td>1</td>\n",
       "      <td>0</td>\n",
       "      <td>0</td>\n",
       "      <td>0</td>\n",
       "      <td>2022091902</td>\n",
       "      <td>71</td>\n",
       "      <td>5-11</td>\n",
       "      <td>...</td>\n",
       "      <td>0.831442</td>\n",
       "      <td>0.001122</td>\n",
       "      <td>-0.001122</td>\n",
       "      <td>3.894043</td>\n",
       "      <td>-0.132479</td>\n",
       "      <td>NaN</td>\n",
       "      <td>NaN</td>\n",
       "      <td>NaN</td>\n",
       "      <td>NaN</td>\n",
       "      <td>2022091902</td>\n",
       "    </tr>\n",
       "    <tr>\n",
       "      <th>2</th>\n",
       "      <td>2022090800</td>\n",
       "      <td>1102</td>\n",
       "      <td>52492</td>\n",
       "      <td>0</td>\n",
       "      <td>0</td>\n",
       "      <td>0</td>\n",
       "      <td>1</td>\n",
       "      <td>2022091902</td>\n",
       "      <td>77</td>\n",
       "      <td>6-5</td>\n",
       "      <td>...</td>\n",
       "      <td>0.831442</td>\n",
       "      <td>0.001122</td>\n",
       "      <td>-0.001122</td>\n",
       "      <td>3.894043</td>\n",
       "      <td>-0.132479</td>\n",
       "      <td>NaN</td>\n",
       "      <td>NaN</td>\n",
       "      <td>NaN</td>\n",
       "      <td>NaN</td>\n",
       "      <td>2022091902</td>\n",
       "    </tr>\n",
       "    <tr>\n",
       "      <th>3</th>\n",
       "      <td>2022090800</td>\n",
       "      <td>2043</td>\n",
       "      <td>42816</td>\n",
       "      <td>1</td>\n",
       "      <td>0</td>\n",
       "      <td>0</td>\n",
       "      <td>0</td>\n",
       "      <td>2022092843</td>\n",
       "      <td>71</td>\n",
       "      <td>5-11</td>\n",
       "      <td>...</td>\n",
       "      <td>0.619052</td>\n",
       "      <td>-0.024323</td>\n",
       "      <td>0.024323</td>\n",
       "      <td>2.479935</td>\n",
       "      <td>0.674549</td>\n",
       "      <td>NaN</td>\n",
       "      <td>NaN</td>\n",
       "      <td>NaN</td>\n",
       "      <td>NaN</td>\n",
       "      <td>2022092843</td>\n",
       "    </tr>\n",
       "    <tr>\n",
       "      <th>4</th>\n",
       "      <td>2022090800</td>\n",
       "      <td>2527</td>\n",
       "      <td>42816</td>\n",
       "      <td>1</td>\n",
       "      <td>0</td>\n",
       "      <td>0</td>\n",
       "      <td>0</td>\n",
       "      <td>2022093327</td>\n",
       "      <td>71</td>\n",
       "      <td>5-11</td>\n",
       "      <td>...</td>\n",
       "      <td>0.815528</td>\n",
       "      <td>-0.031648</td>\n",
       "      <td>0.031648</td>\n",
       "      <td>0.267979</td>\n",
       "      <td>1.395048</td>\n",
       "      <td>NaN</td>\n",
       "      <td>NaN</td>\n",
       "      <td>NaN</td>\n",
       "      <td>NaN</td>\n",
       "      <td>2022093327</td>\n",
       "    </tr>\n",
       "  </tbody>\n",
       "</table>\n",
       "<p>5 rows × 57 columns</p>\n",
       "</div>"
      ],
      "text/plain": [
       "       gameId  playId  nflId  tackle  assist  forcedFumble  pff_missedTackle  \\\n",
       "0  2022090800     101  42816       1       0             0                 0   \n",
       "1  2022090800    1102  42816       1       0             0                 0   \n",
       "2  2022090800    1102  52492       0       0             0                 1   \n",
       "3  2022090800    2043  42816       1       0             0                 0   \n",
       "4  2022090800    2527  42816       1       0             0                 0   \n",
       "\n",
       "   gamePlayId_x  heightInInches height  ...  preSnapVisitorTeamWinProbability  \\\n",
       "0    2022090901              71   5-11  ...                          0.600181   \n",
       "1    2022091902              71   5-11  ...                          0.831442   \n",
       "2    2022091902              77    6-5  ...                          0.831442   \n",
       "3    2022092843              71   5-11  ...                          0.619052   \n",
       "4    2022093327              71   5-11  ...                          0.815528   \n",
       "\n",
       "  homeTeamWinProbabilityAdded visitorTeamWinProbilityAdded expectedPoints  \\\n",
       "0                   -0.014850                     0.014850       2.126690   \n",
       "1                    0.001122                    -0.001122       3.894043   \n",
       "2                    0.001122                    -0.001122       3.894043   \n",
       "3                   -0.024323                     0.024323       2.479935   \n",
       "4                   -0.031648                     0.031648       0.267979   \n",
       "\n",
       "  expectedPointsAdded  foulName1  foulName2 foulNFLId1 foulNFLId2 gamePlayId_y  \n",
       "0            0.562363        NaN        NaN        NaN        NaN   2022090901  \n",
       "1           -0.132479        NaN        NaN        NaN        NaN   2022091902  \n",
       "2           -0.132479        NaN        NaN        NaN        NaN   2022091902  \n",
       "3            0.674549        NaN        NaN        NaN        NaN   2022092843  \n",
       "4            1.395048        NaN        NaN        NaN        NaN   2022093327  \n",
       "\n",
       "[5 rows x 57 columns]"
      ]
     },
     "execution_count": 18,
     "metadata": {},
     "output_type": "execute_result"
    }
   ],
   "source": [
    "heightInInchesCol = combinedData.pop('heightInInches')\n",
    "combinedData.insert(8, heightInInchesCol.name, heightInInchesCol)\n",
    "\n",
    "# Check that this worked\n",
    "combinedData.head()"
   ]
  },
  {
   "cell_type": "markdown",
   "id": "0cfc0a39",
   "metadata": {
    "papermill": {
     "duration": 0.023375,
     "end_time": "2024-01-07T17:34:59.136890",
     "exception": false,
     "start_time": "2024-01-07T17:34:59.113515",
     "status": "completed"
    },
    "tags": []
   },
   "source": [
    "# Step 3: Utilize feature engineering to generate new metrics and discover the importance of current ones\n",
    "\n",
    "I want to start by exploring the correlation between different data points. In order to do this, I want to create an age data point."
   ]
  },
  {
   "cell_type": "code",
   "execution_count": 19,
   "id": "9a51d4cf",
   "metadata": {
    "execution": {
     "iopub.execute_input": "2024-01-07T17:34:59.187299Z",
     "iopub.status.busy": "2024-01-07T17:34:59.186800Z",
     "iopub.status.idle": "2024-01-07T17:34:59.254018Z",
     "shell.execute_reply": "2024-01-07T17:34:59.252348Z"
    },
    "papermill": {
     "duration": 0.096301,
     "end_time": "2024-01-07T17:34:59.257143",
     "exception": false,
     "start_time": "2024-01-07T17:34:59.160842",
     "status": "completed"
    },
    "tags": []
   },
   "outputs": [],
   "source": [
    "# Convert all birthdates to a uniform format\n",
    "combinedData[\"birthDate\"] = pd.to_datetime(combinedData[\"birthDate\"], format=\"mixed\")\n",
    "from datetime import date\n",
    "\n",
    "today = date.today()\n",
    "# Create a function to calculate age\n",
    "def getAge(dob):\n",
    "    return today.year - dob.year - ((today.month, today.day) < (dob.month, dob.day))\n",
    "\n",
    "# Create a new column using this function\n",
    "combinedData[\"age\"] = combinedData[\"birthDate\"].apply(getAge)\n",
    "\n",
    "# Check that the conversion worked\n",
    "combinedData[[\"birthDate\", \"age\"]]\n",
    "\n",
    "# Position column\n",
    "ageCol = combinedData.pop(\"age\")\n",
    "combinedData.insert(10, ageCol.name, ageCol)"
   ]
  },
  {
   "cell_type": "code",
   "execution_count": 20,
   "id": "953b3128",
   "metadata": {
    "execution": {
     "iopub.execute_input": "2024-01-07T17:34:59.308687Z",
     "iopub.status.busy": "2024-01-07T17:34:59.307962Z",
     "iopub.status.idle": "2024-01-07T17:35:00.241698Z",
     "shell.execute_reply": "2024-01-07T17:35:00.240500Z"
    },
    "papermill": {
     "duration": 0.963182,
     "end_time": "2024-01-07T17:35:00.244444",
     "exception": false,
     "start_time": "2024-01-07T17:34:59.281262",
     "status": "completed"
    },
    "tags": []
   },
   "outputs": [
    {
     "data": {
      "image/png": "[encoded data removed]",
      "text/plain": [
       "<Figure size 1200x800 with 2 Axes>"
      ]
     },
     "metadata": {},
     "output_type": "display_data"
    }
   ],
   "source": [
    "# Select features\n",
    "features = [\"heightInInches\", \"weight\", \"age\", \"position\", \"tackle\", \"assist\", \"forcedFumble\", \"pff_missedTackle\",\"down\", \"yardsToGo\", \"offenseFormation\", \"passProbability\"]\n",
    "\n",
    "corrDf = combinedData[features]\n",
    "\n",
    "# Convert position to dummy variables\n",
    "dummyPositions = pd.get_dummies(corrDf[\"position\"])\n",
    "corrDf = pd.concat([corrDf, dummyPositions], axis=1)\n",
    "\n",
    "dummyFormations = pd.get_dummies(corrDf[\"offenseFormation\"])\n",
    "corrDf = pd.concat([corrDf, dummyFormations], axis=1)\n",
    "\n",
    "# Remove the categorical position column\n",
    "corrDf.pop(\"position\")\n",
    "corrDf.pop(\"offenseFormation\")\n",
    "\n",
    "# Calculate the correlation matrix\n",
    "corrMatrix = corrDf.corr()\n",
    "\n",
    "# Generate a heatmap\n",
    "plt.figure(figsize=(12, 8))\n",
    "sns.heatmap(corrMatrix, annot=False, cmap=\"PiYG\")\n",
    "plt.title(\"Attribute Heatmap\")\n",
    "plt.show()"
   ]
  },
  {
   "cell_type": "markdown",
   "id": "2046f5b5",
   "metadata": {
    "papermill": {
     "duration": 0.024814,
     "end_time": "2024-01-07T17:35:00.294789",
     "exception": false,
     "start_time": "2024-01-07T17:35:00.269975",
     "status": "completed"
    },
    "tags": []
   },
   "source": [
    "The heatmap above shows the correlation coefficients between the chosen features without our dataset. Dark green indicates a positive correlation while dark pink indicates negative correlation. The diagonal line through the center shows that each feature has a perfect correlation with itself, which is expected.\n",
    "\n",
    "From this output, we see the following positive correlations:\n",
    "1. Weight and height: as weight increases, so does height\n",
    "2. Weight and DT: this position is one of the largest defensive players, so it's expected they would weigh the most\n",
    "3. Weight and DE: see above\n",
    "4. Height and DT: this position is one of the largest defensive players, so it's expected they would be among the tallest\n",
    "5. Height and DE: see above\n",
    "\n",
    "We also see the following negative correlations:\n",
    "1. Tackle and assist: as tackles increase, the credited assists would decrease\n",
    "2. Yards to go and down: as the # of downs increase, yards to go increases\n",
    "3. Height and CB: this position is a skill position and one of the smaller players on the field giving them a tendency to be shorter\n",
    "4. Height and FS: see above\n",
    "5. Height and SS: see above\n",
    "6. Weight and CB: his position is a skill position and one of the smaller players on the field giving them a tendency to weigh less\n",
    "7. Weight and FS: see above\n",
    "8. Weight and SS: see above\n",
    "9. Tackle and missed tackle: if a tackle is made, the missed tackle count will be lower and vice versa\n",
    "10. Assist and missed tackle: if an assist is made, the missed tackle count will be lower and vice versa"
   ]
  },
  {
   "cell_type": "code",
   "execution_count": 21,
   "id": "d75e0d9c",
   "metadata": {
    "execution": {
     "iopub.execute_input": "2024-01-07T17:35:00.348078Z",
     "iopub.status.busy": "2024-01-07T17:35:00.347620Z",
     "iopub.status.idle": "2024-01-07T17:35:00.782361Z",
     "shell.execute_reply": "2024-01-07T17:35:00.781110Z"
    },
    "papermill": {
     "duration": 0.465297,
     "end_time": "2024-01-07T17:35:00.785284",
     "exception": false,
     "start_time": "2024-01-07T17:35:00.319987",
     "status": "completed"
    },
    "tags": []
   },
   "outputs": [
    {
     "data": {
      "image/png": "[encoded data removed]",
      "text/plain": [
       "<Figure size 1000x600 with 1 Axes>"
      ]
     },
     "metadata": {},
     "output_type": "display_data"
    }
   ],
   "source": [
    "playerTackles = combinedData.groupby([\"nflId\"])[\"tackle\"].agg(\"sum\")\n",
    "\n",
    "# Creating a DataFrame by passing a dictionary\n",
    "playerrTacklesDict = {\"nflId2\": playerTackles.index, \"tackles\": playerTackles}\n",
    "combinedPlayerTackles = pd.DataFrame(playerrTacklesDict).reset_index()\n",
    "combinedPlayerTackles = combinedPlayerTackles.drop(columns=[\"nflId2\"], axis=1)\n",
    "\n",
    "# Plotting using matplotlib\n",
    "plt.figure(figsize=(10, 6))\n",
    "plt.hist(combinedPlayerTackles[\"tackles\"], bins=30, color=\"pink\", edgecolor=\"gray\")\n",
    "plt.title(\"Distribution of Tackles per Player\")\n",
    "plt.xlabel(\"Tackles\")\n",
    "plt.ylabel(\"Count\")\n",
    "plt.xticks(np.arange(min(combinedPlayerTackles[\"tackles\"]), max(combinedPlayerTackles[\"tackles\"])+1, 5.0))\n",
    "plt.grid(True)\n",
    "plt.show()"
   ]
  },
  {
   "cell_type": "markdown",
   "id": "c3edd69a",
   "metadata": {
    "papermill": {
     "duration": 0.025742,
     "end_time": "2024-01-07T17:35:00.836785",
     "exception": false,
     "start_time": "2024-01-07T17:35:00.811043",
     "status": "completed"
    },
    "tags": []
   },
   "source": [
    "The graph above shows that a majority of players get less than 15 tackles credited. Let's calculate the percentage:"
   ]
  },
  {
   "cell_type": "code",
   "execution_count": 22,
   "id": "582702ee",
   "metadata": {
    "execution": {
     "iopub.execute_input": "2024-01-07T17:35:00.893231Z",
     "iopub.status.busy": "2024-01-07T17:35:00.892462Z",
     "iopub.status.idle": "2024-01-07T17:35:00.904856Z",
     "shell.execute_reply": "2024-01-07T17:35:00.903707Z"
    },
    "papermill": {
     "duration": 0.044326,
     "end_time": "2024-01-07T17:35:00.908076",
     "exception": false,
     "start_time": "2024-01-07T17:35:00.863750",
     "status": "completed"
    },
    "tags": []
   },
   "outputs": [
    {
     "name": "stdout",
     "output_type": "stream",
     "text": [
      "70.0%\n"
     ]
    }
   ],
   "source": [
    "lowTackles = combinedPlayerTackles[combinedPlayerTackles[\"tackles\"] < 16].count()\n",
    "highTackles = combinedPlayerTackles[combinedPlayerTackles[\"tackles\"] > 15].count()\n",
    "\n",
    "totalPlayers = lowTackles.tackles + highTackles.tackles\n",
    "percentLowTackles = (lowTackles.tackles / totalPlayers)*100\n",
    "print(str(percentLowTackles) + \"%\")\n"
   ]
  },
  {
   "cell_type": "markdown",
   "id": "ee486d1d",
   "metadata": {
    "papermill": {
     "duration": 0.024949,
     "end_time": "2024-01-07T17:35:00.958390",
     "exception": false,
     "start_time": "2024-01-07T17:35:00.933441",
     "status": "completed"
    },
    "tags": []
   },
   "source": [
    "Let's do the same analysis with assists:"
   ]
  },
  {
   "cell_type": "code",
   "execution_count": 23,
   "id": "29e6bed9",
   "metadata": {
    "execution": {
     "iopub.execute_input": "2024-01-07T17:35:01.013980Z",
     "iopub.status.busy": "2024-01-07T17:35:01.013255Z",
     "iopub.status.idle": "2024-01-07T17:35:01.412398Z",
     "shell.execute_reply": "2024-01-07T17:35:01.411143Z"
    },
    "papermill": {
     "duration": 0.430996,
     "end_time": "2024-01-07T17:35:01.415286",
     "exception": false,
     "start_time": "2024-01-07T17:35:00.984290",
     "status": "completed"
    },
    "tags": []
   },
   "outputs": [
    {
     "data": {
      "image/png": "[encoded data removed]",
      "text/plain": [
       "<Figure size 1000x600 with 1 Axes>"
      ]
     },
     "metadata": {},
     "output_type": "display_data"
    }
   ],
   "source": [
    "playerAssists = combinedData.groupby([\"nflId\"])[\"assist\"].agg(\"sum\")\n",
    "\n",
    "# Creating a DataFrame by passing a dictionary\n",
    "playerAssistDict = {\"nflId3\": playerAssists.index, \"assists\": playerAssists}\n",
    "combinedPlayerAssists = pd.DataFrame(playerAssistDict).reset_index()\n",
    "combinedPlayerAssists = combinedPlayerAssists.drop(columns=[\"nflId3\"], axis=1)\n",
    "\n",
    "# Plotting using matplotlib\n",
    "plt.figure(figsize=(10, 6))\n",
    "plt.hist(combinedPlayerAssists[\"assists\"], bins=30, color=\"pink\", edgecolor=\"gray\")\n",
    "plt.title(\"Distribution of Assists per Player\")\n",
    "plt.xlabel(\"Assist\")\n",
    "plt.ylabel(\"Count\")\n",
    "plt.xticks(np.arange(min(combinedPlayerAssists[\"assists\"]), max(combinedPlayerAssists[\"assists\"])+1, 5.0))\n",
    "plt.grid(True)\n",
    "plt.show()"
   ]
  },
  {
   "cell_type": "code",
   "execution_count": 24,
   "id": "b0e5c849",
   "metadata": {
    "execution": {
     "iopub.execute_input": "2024-01-07T17:35:01.470044Z",
     "iopub.status.busy": "2024-01-07T17:35:01.469301Z",
     "iopub.status.idle": "2024-01-07T17:35:01.482406Z",
     "shell.execute_reply": "2024-01-07T17:35:01.480508Z"
    },
    "papermill": {
     "duration": 0.045574,
     "end_time": "2024-01-07T17:35:01.486929",
     "exception": false,
     "start_time": "2024-01-07T17:35:01.441355",
     "status": "completed"
    },
    "tags": []
   },
   "outputs": [
    {
     "name": "stdout",
     "output_type": "stream",
     "text": [
      "90.125%\n"
     ]
    }
   ],
   "source": [
    "lowAssists = combinedPlayerAssists[combinedPlayerAssists[\"assists\"] < 16].count()\n",
    "highAssists = combinedPlayerAssists[combinedPlayerAssists[\"assists\"] > 15].count()\n",
    "\n",
    "totalPlayers2 = lowAssists.assists + highAssists.assists\n",
    "percentLowAssists = (lowAssists.assists / totalPlayers2)*100\n",
    "print(str(percentLowAssists) + \"%\")\n"
   ]
  },
  {
   "cell_type": "markdown",
   "id": "45abe123",
   "metadata": {
    "papermill": {
     "duration": 0.026316,
     "end_time": "2024-01-07T17:35:01.544760",
     "exception": false,
     "start_time": "2024-01-07T17:35:01.518444",
     "status": "completed"
    },
    "tags": []
   },
   "source": [
    "With this analysis, we see it is more common for players to have less than 15 or less assists compared to tackles."
   ]
  },
  {
   "cell_type": "code",
   "execution_count": 25,
   "id": "d5391cfb",
   "metadata": {
    "execution": {
     "iopub.execute_input": "2024-01-07T17:35:01.604452Z",
     "iopub.status.busy": "2024-01-07T17:35:01.603881Z",
     "iopub.status.idle": "2024-01-07T17:35:03.498368Z",
     "shell.execute_reply": "2024-01-07T17:35:03.496970Z"
    },
    "papermill": {
     "duration": 1.929573,
     "end_time": "2024-01-07T17:35:03.502212",
     "exception": false,
     "start_time": "2024-01-07T17:35:01.572639",
     "status": "completed"
    },
    "tags": []
   },
   "outputs": [
    {
     "data": {
      "image/png": "[encoded data removed]",
      "text/plain": [
       "<Figure size 1200x600 with 2 Axes>"
      ]
     },
     "metadata": {},
     "output_type": "display_data"
    }
   ],
   "source": [
    "plt.figure(figsize=(12, 6))\n",
    "plt.subplot(1, 2, 1)\n",
    "sns.histplot(combinedData[combinedData[\"tackle\"] == 1][\"heightInInches\"], kde=True, color=\"purple\", label=\"Successful Tackles\")\n",
    "sns.histplot(combinedData[combinedData[\"tackle\"] == 0][\"heightInInches\"], kde=True, color=\"pink\", label=\"Unsuccessful Tackles\")\n",
    "plt.title(\"Distribution of Tackles by Player Height\")\n",
    "plt.legend()\n",
    "\n",
    "plt.subplot(1, 2, 2)\n",
    "sns.histplot(combinedData[combinedData[\"tackle\"] == 1][\"weight\"], kde=True, color=\"purple\", label=\"Successful Tackles\")\n",
    "sns.histplot(combinedData[combinedData[\"tackle\"] == 0][\"weight\"], kde=True, color=\"pink\", label=\"Successful Tackles\")\n",
    "plt.title(\"Distribution of Tackles by Player Weight\")\n",
    "plt.legend()\n",
    "\n",
    "plt.tight_layout()\n",
    "plt.show()"
   ]
  },
  {
   "cell_type": "markdown",
   "id": "1b5fb179",
   "metadata": {
    "papermill": {
     "duration": 0.031462,
     "end_time": "2024-01-07T17:35:03.562376",
     "exception": false,
     "start_time": "2024-01-07T17:35:03.530914",
     "status": "completed"
    },
    "tags": []
   },
   "source": [
    "Full Disclosure: I attempted to use FeatureTools and I couldn't get it to work successfully. This is a tool I would like to use in the future, but to ensure success, I'm going to brainstorm and create my own features.\n",
    "\n",
    "I already created some features previously, but after further analysis I would like to add tackle and assist success rates, due to their negative correlation, and BMI, due to height and weight's positive correlation.\n",
    "\n",
    "1. tackleSuccessRate = sum of tackles / (sum of tackles + missed tackles)\n",
    "2. assistSucessRate = sum of assists / (sum of assists + missed tackles)\n",
    "3. BMI = 703 * weight in pounds / (height in inches)^2"
   ]
  },
  {
   "cell_type": "code",
   "execution_count": 26,
   "id": "990e07e2",
   "metadata": {
    "execution": {
     "iopub.execute_input": "2024-01-07T17:35:03.620972Z",
     "iopub.status.busy": "2024-01-07T17:35:03.620010Z",
     "iopub.status.idle": "2024-01-07T17:35:05.366190Z",
     "shell.execute_reply": "2024-01-07T17:35:05.364737Z"
    },
    "papermill": {
     "duration": 1.779052,
     "end_time": "2024-01-07T17:35:05.369588",
     "exception": false,
     "start_time": "2024-01-07T17:35:03.590536",
     "status": "completed"
    },
    "tags": []
   },
   "outputs": [],
   "source": [
    "combinedData[\"tackleSuccess\"] = combinedData.groupby(\"nflId\")[\"tackle\"].transform(lambda x : x.loc[x==1].count())\n",
    "combinedData[\"tackleFail\"] = combinedData.groupby(\"nflId\")[\"tackle\"].transform(lambda x : x.loc[x==0].count())\n",
    "combinedData[\"tackleSuccessRate\"] = combinedData[\"tackleSuccess\"] / (combinedData[\"tackleFail\"] + combinedData[\"tackleSuccess\"]) * 100\n",
    "\n",
    "\n",
    "combinedData[\"assistSuccess\"] = combinedData.groupby(\"nflId\")[\"assist\"].transform(lambda x : x.loc[x==1].count())\n",
    "combinedData[\"assistFail\"] = combinedData.groupby(\"nflId\")[\"assist\"].transform(lambda x : x.loc[x==0].count())\n",
    "combinedData[\"assistSuccessRate\"] = combinedData[\"assistSuccess\"] / (combinedData[\"tackleFail\"] + combinedData[\"assistSuccess\"]) * 100\n",
    "\n",
    "def calculateBmi(weight, heightInInches):\n",
    "    # BMI formula: 703 * weight in pounds / (height in inches)^2\n",
    "    return 703 * weight / (heightInInches ** 2)\n",
    "\n",
    "combinedData['bmi'] = combinedData.apply(lambda row: calculateBmi(row['weight'], row['heightInInches']), axis=1)\n",
    "\n"
   ]
  },
  {
   "cell_type": "markdown",
   "id": "0121498e",
   "metadata": {
    "papermill": {
     "duration": 0.029065,
     "end_time": "2024-01-07T17:35:05.429204",
     "exception": false,
     "start_time": "2024-01-07T17:35:05.400139",
     "status": "completed"
    },
    "tags": []
   },
   "source": [
    "The features I will be focusing on are: BMI, tackleSuccessRate, assistSuccessRate, forcedFumble, tackle, assist, and quarter\n",
    "\n",
    "\n",
    "\n"
   ]
  },
  {
   "cell_type": "markdown",
   "id": "b1b83705",
   "metadata": {
    "papermill": {
     "duration": 0.028134,
     "end_time": "2024-01-07T17:35:05.485672",
     "exception": false,
     "start_time": "2024-01-07T17:35:05.457538",
     "status": "completed"
    },
    "tags": []
   },
   "source": [
    "# Step 4: Split data into test and training sets\n",
    "I'll start by deciding what elements to use in my feature matrix. I want to use all of the metrics I've created as well as meetrics like tackle, assist, and forcedFumble those have some correlation to eachother. Finally, I'll also add in quarter to explore if game duration has an impact on the probability of a tackle."
   ]
  },
  {
   "cell_type": "code",
   "execution_count": 27,
   "id": "71eea363",
   "metadata": {
    "execution": {
     "iopub.execute_input": "2024-01-07T17:35:05.549467Z",
     "iopub.status.busy": "2024-01-07T17:35:05.548208Z",
     "iopub.status.idle": "2024-01-07T17:35:05.570143Z",
     "shell.execute_reply": "2024-01-07T17:35:05.568217Z"
    },
    "papermill": {
     "duration": 0.057515,
     "end_time": "2024-01-07T17:35:05.573460",
     "exception": false,
     "start_time": "2024-01-07T17:35:05.515945",
     "status": "completed"
    },
    "tags": []
   },
   "outputs": [
    {
     "data": {
      "text/html": [
       "<div>\n",
       "<style scoped>\n",
       "    .dataframe tbody tr th:only-of-type {\n",
       "        vertical-align: middle;\n",
       "    }\n",
       "\n",
       "    .dataframe tbody tr th {\n",
       "        vertical-align: top;\n",
       "    }\n",
       "\n",
       "    .dataframe thead th {\n",
       "        text-align: right;\n",
       "    }\n",
       "</style>\n",
       "<table border=\"1\" class=\"dataframe\">\n",
       "  <thead>\n",
       "    <tr style=\"text-align: right;\">\n",
       "      <th></th>\n",
       "      <th>bmi</th>\n",
       "      <th>age</th>\n",
       "      <th>tackleSuccessRate</th>\n",
       "      <th>assistSuccessRate</th>\n",
       "      <th>forcedFumble</th>\n",
       "      <th>tackle</th>\n",
       "      <th>assist</th>\n",
       "      <th>quarter</th>\n",
       "    </tr>\n",
       "  </thead>\n",
       "  <tbody>\n",
       "    <tr>\n",
       "      <th>0</th>\n",
       "      <td>25.659988</td>\n",
       "      <td>32.0</td>\n",
       "      <td>55.555556</td>\n",
       "      <td>46.666667</td>\n",
       "      <td>0</td>\n",
       "      <td>1</td>\n",
       "      <td>0</td>\n",
       "      <td>1</td>\n",
       "    </tr>\n",
       "    <tr>\n",
       "      <th>1</th>\n",
       "      <td>25.659988</td>\n",
       "      <td>32.0</td>\n",
       "      <td>55.555556</td>\n",
       "      <td>46.666667</td>\n",
       "      <td>0</td>\n",
       "      <td>1</td>\n",
       "      <td>0</td>\n",
       "      <td>2</td>\n",
       "    </tr>\n",
       "    <tr>\n",
       "      <th>2</th>\n",
       "      <td>29.879575</td>\n",
       "      <td>25.0</td>\n",
       "      <td>58.333333</td>\n",
       "      <td>44.444444</td>\n",
       "      <td>0</td>\n",
       "      <td>0</td>\n",
       "      <td>0</td>\n",
       "      <td>2</td>\n",
       "    </tr>\n",
       "    <tr>\n",
       "      <th>3</th>\n",
       "      <td>25.659988</td>\n",
       "      <td>32.0</td>\n",
       "      <td>55.555556</td>\n",
       "      <td>46.666667</td>\n",
       "      <td>0</td>\n",
       "      <td>1</td>\n",
       "      <td>0</td>\n",
       "      <td>3</td>\n",
       "    </tr>\n",
       "    <tr>\n",
       "      <th>4</th>\n",
       "      <td>25.659988</td>\n",
       "      <td>32.0</td>\n",
       "      <td>55.555556</td>\n",
       "      <td>46.666667</td>\n",
       "      <td>0</td>\n",
       "      <td>1</td>\n",
       "      <td>0</td>\n",
       "      <td>3</td>\n",
       "    </tr>\n",
       "  </tbody>\n",
       "</table>\n",
       "</div>"
      ],
      "text/plain": [
       "         bmi   age  tackleSuccessRate  assistSuccessRate  forcedFumble  \\\n",
       "0  25.659988  32.0          55.555556          46.666667             0   \n",
       "1  25.659988  32.0          55.555556          46.666667             0   \n",
       "2  29.879575  25.0          58.333333          44.444444             0   \n",
       "3  25.659988  32.0          55.555556          46.666667             0   \n",
       "4  25.659988  32.0          55.555556          46.666667             0   \n",
       "\n",
       "   tackle  assist  quarter  \n",
       "0       1       0        1  \n",
       "1       1       0        2  \n",
       "2       0       0        2  \n",
       "3       1       0        3  \n",
       "4       1       0        3  "
      ]
     },
     "execution_count": 27,
     "metadata": {},
     "output_type": "execute_result"
    }
   ],
   "source": [
    "featureData = combinedData[[\"bmi\", \"age\", \"tackleSuccessRate\", \"assistSuccessRate\", \"forcedFumble\", \"tackle\", \"assist\", \"quarter\"]]\n",
    "featureData = featureData.fillna(0)\n",
    "featureData.head()"
   ]
  },
  {
   "cell_type": "code",
   "execution_count": 28,
   "id": "c51f4026",
   "metadata": {
    "execution": {
     "iopub.execute_input": "2024-01-07T17:35:05.636142Z",
     "iopub.status.busy": "2024-01-07T17:35:05.635628Z",
     "iopub.status.idle": "2024-01-07T17:35:05.671410Z",
     "shell.execute_reply": "2024-01-07T17:35:05.669799Z"
    },
    "papermill": {
     "duration": 0.071485,
     "end_time": "2024-01-07T17:35:05.674819",
     "exception": false,
     "start_time": "2024-01-07T17:35:05.603334",
     "status": "completed"
    },
    "tags": []
   },
   "outputs": [],
   "source": [
    "# Splitting the dataset into training, validation, and test sets\n",
    "train, test = train_test_split(featureData, test_size=0.2, random_state=42)\n",
    "val, test = train_test_split(test, test_size=0.5, random_state=42)\n",
    "\n",
    "# Apply get_dummies to each split separately\n",
    "X_train = pd.get_dummies(train.drop('tackle', axis=1), drop_first=True)\n",
    "y_train = train['tackle']\n",
    "\n",
    "X_val = pd.get_dummies(val.drop('tackle', axis=1), drop_first=True)\n",
    "y_val = val['tackle']\n",
    "\n",
    "X_test = pd.get_dummies(test.drop('tackle', axis=1), drop_first=True)\n",
    "y_test = test['tackle']\n",
    "\n",
    "# Standardize the numerical features\n",
    "# Note: Only standardize numerical columns. For simplicity, I'm assuming all columns are now either numerical or one-hot encoded\n",
    "scaler = StandardScaler()\n",
    "X_train = scaler.fit_transform(X_train)\n",
    "X_val = scaler.transform(X_val)\n",
    "X_test = scaler.transform(X_test)\n"
   ]
  },
  {
   "cell_type": "markdown",
   "id": "c4f15e73",
   "metadata": {
    "papermill": {
     "duration": 0.028553,
     "end_time": "2024-01-07T17:35:05.731986",
     "exception": false,
     "start_time": "2024-01-07T17:35:05.703433",
     "status": "completed"
    },
    "tags": []
   },
   "source": [
    "### Model 1: Support Vector Classifier\n",
    "I'll be starting with an SVC because I have worked with this type of model before. Once I gain confidence in my ability to input football-specific data, I'll branch out to other supervised learning models."
   ]
  },
  {
   "cell_type": "code",
   "execution_count": 29,
   "id": "637415a2",
   "metadata": {
    "execution": {
     "iopub.execute_input": "2024-01-07T17:35:05.791006Z",
     "iopub.status.busy": "2024-01-07T17:35:05.790521Z",
     "iopub.status.idle": "2024-01-07T17:35:13.392216Z",
     "shell.execute_reply": "2024-01-07T17:35:13.390675Z"
    },
    "papermill": {
     "duration": 7.634843,
     "end_time": "2024-01-07T17:35:13.395326",
     "exception": false,
     "start_time": "2024-01-07T17:35:05.760483",
     "status": "completed"
    },
    "tags": []
   },
   "outputs": [
    {
     "name": "stdout",
     "output_type": "stream",
     "text": [
      "Model Accuracy: 88.00917957544463\n"
     ]
    }
   ],
   "source": [
    "# Create a Support Vector Classifier\n",
    "svc = SVC()\n",
    "\n",
    "# Train the model\n",
    "svc.fit(X_train, y_train)\n",
    "\n",
    "# Make predictions\n",
    "y_pred = svc.predict(X_test)\n",
    "\n",
    "# Evaluate the accuracy of the model\n",
    "accuracy = accuracy_score(y_test, y_pred)*100\n",
    "print(f\"Model Accuracy: {accuracy}\")"
   ]
  },
  {
   "cell_type": "code",
   "execution_count": 30,
   "id": "36dcdaf0",
   "metadata": {
    "execution": {
     "iopub.execute_input": "2024-01-07T17:35:13.457162Z",
     "iopub.status.busy": "2024-01-07T17:35:13.456208Z",
     "iopub.status.idle": "2024-01-07T17:35:14.083833Z",
     "shell.execute_reply": "2024-01-07T17:35:14.082435Z"
    },
    "papermill": {
     "duration": 0.662285,
     "end_time": "2024-01-07T17:35:14.086920",
     "exception": false,
     "start_time": "2024-01-07T17:35:13.424635",
     "status": "completed"
    },
    "tags": []
   },
   "outputs": [
    {
     "data": {
      "image/png": "[encoded data removed]",
      "text/plain": [
       "<Figure size 640x480 with 1 Axes>"
      ]
     },
     "metadata": {},
     "output_type": "display_data"
    }
   ],
   "source": [
    "y_score = svc.decision_function(X_test)\n",
    "\n",
    "# Compute ROC curve and ROC area for each class\n",
    "fpr_svc, tpr_svc, _ = roc_curve(y_test, y_score)\n",
    "roc_auc_svc = roc_auc_score(y_test, y_score)\n",
    "\n",
    "# Plot the ROC curve\n",
    "plt.figure()\n",
    "plt.plot(fpr_svc, tpr_svc, color='blue', lw=2, label='ROC curve (area = %0.2f)' % roc_auc_svc)\n",
    "plt.plot([0, 1], [0, 1], color='red', linestyle='--')\n",
    "plt.xlim([0.0, 1.0])\n",
    "plt.ylim([0.0, 1.05])\n",
    "plt.xlabel('False Positive Rate')\n",
    "plt.ylabel('True Positive Rate')\n",
    "plt.title('Receiver Operating Characteristic')\n",
    "plt.legend(loc=\"lower right\")\n",
    "plt.show()"
   ]
  },
  {
   "cell_type": "markdown",
   "id": "4a3ef586",
   "metadata": {
    "papermill": {
     "duration": 0.02871,
     "end_time": "2024-01-07T17:35:14.144607",
     "exception": false,
     "start_time": "2024-01-07T17:35:14.115897",
     "status": "completed"
    },
    "tags": []
   },
   "source": [
    "### Model 2: Naive Bayes Model"
   ]
  },
  {
   "cell_type": "code",
   "execution_count": 31,
   "id": "6185fb78",
   "metadata": {
    "execution": {
     "iopub.execute_input": "2024-01-07T17:35:14.205321Z",
     "iopub.status.busy": "2024-01-07T17:35:14.204139Z",
     "iopub.status.idle": "2024-01-07T17:35:14.220835Z",
     "shell.execute_reply": "2024-01-07T17:35:14.218981Z"
    },
    "papermill": {
     "duration": 0.05022,
     "end_time": "2024-01-07T17:35:14.223676",
     "exception": false,
     "start_time": "2024-01-07T17:35:14.173456",
     "status": "completed"
    },
    "tags": []
   },
   "outputs": [
    {
     "name": "stdout",
     "output_type": "stream",
     "text": [
      "Model Accuracy: 87.95180722891565\n"
     ]
    }
   ],
   "source": [
    "# Create a Gaussian Naive Bayes\n",
    "gnb = GaussianNB()\n",
    "\n",
    "# Train the model\n",
    "gnb.fit(X_train, y_train)\n",
    "\n",
    "# Make predictions\n",
    "y_pred_gnb = gnb.predict(X_test)\n",
    "\n",
    "# Evaluate the accuracy of the model\n",
    "accuracy_gnb = accuracy_score(y_test, y_pred_gnb)*100\n",
    "print(f\"Model Accuracy: {accuracy_gnb}\")"
   ]
  },
  {
   "cell_type": "code",
   "execution_count": 32,
   "id": "bde99a83",
   "metadata": {
    "execution": {
     "iopub.execute_input": "2024-01-07T17:35:14.284390Z",
     "iopub.status.busy": "2024-01-07T17:35:14.283891Z",
     "iopub.status.idle": "2024-01-07T17:35:14.553541Z",
     "shell.execute_reply": "2024-01-07T17:35:14.552413Z"
    },
    "papermill": {
     "duration": 0.30318,
     "end_time": "2024-01-07T17:35:14.556061",
     "exception": false,
     "start_time": "2024-01-07T17:35:14.252881",
     "status": "completed"
    },
    "tags": []
   },
   "outputs": [
    {
     "data": {
      "image/png": "[encoded data removed]",
      "text/plain": [
       "<Figure size 640x480 with 2 Axes>"
      ]
     },
     "metadata": {},
     "output_type": "display_data"
    }
   ],
   "source": [
    "from sklearn.metrics import confusion_matrix\n",
    "cm = confusion_matrix(y_test, y_pred_gnb)\n",
    "\n",
    "sns.heatmap(cm, \n",
    "            annot=True,\n",
    "            fmt='g')\n",
    "plt.ylabel('Prediction',fontsize=13)\n",
    "plt.xlabel('Actual',fontsize=13)\n",
    "plt.title('Confusion Matrix',fontsize=17)\n",
    "plt.show()"
   ]
  },
  {
   "cell_type": "markdown",
   "id": "8599a7d9",
   "metadata": {
    "papermill": {
     "duration": 0.029109,
     "end_time": "2024-01-07T17:35:14.614777",
     "exception": false,
     "start_time": "2024-01-07T17:35:14.585668",
     "status": "completed"
    },
    "tags": []
   },
   "source": [
    "### Model 3: Random Forest Classifier"
   ]
  },
  {
   "cell_type": "code",
   "execution_count": 33,
   "id": "17b4d7e8",
   "metadata": {
    "execution": {
     "iopub.execute_input": "2024-01-07T17:35:14.677580Z",
     "iopub.status.busy": "2024-01-07T17:35:14.676243Z",
     "iopub.status.idle": "2024-01-07T17:35:16.075812Z",
     "shell.execute_reply": "2024-01-07T17:35:16.074500Z"
    },
    "papermill": {
     "duration": 1.434826,
     "end_time": "2024-01-07T17:35:16.078879",
     "exception": false,
     "start_time": "2024-01-07T17:35:14.644053",
     "status": "completed"
    },
    "tags": []
   },
   "outputs": [
    {
     "name": "stdout",
     "output_type": "stream",
     "text": [
      "Model Accuracy: 85.77165806081469\n"
     ]
    }
   ],
   "source": [
    "# Create the RF Classifier\n",
    "rf_clf = RandomForestClassifier(n_estimators=100)\n",
    "\n",
    "# Train the model\n",
    "rf_clf.fit(X_train, y_train)\n",
    "\n",
    "# Make Predictions\n",
    "y_pred_rf = rf_clf.predict(X_test)\n",
    "\n",
    "# Predict probabilities\n",
    "y_pred_proba = rf_clf.predict_proba(X_test)[:, 1]\n",
    "\n",
    "# Calculate Accuracy\n",
    "accuracy_rf = accuracy_score(y_test, y_pred_rf)*100\n",
    "print(f\"Model Accuracy: {accuracy_rf}\")\n",
    "\n"
   ]
  },
  {
   "cell_type": "code",
   "execution_count": 34,
   "id": "232ef9fd",
   "metadata": {
    "execution": {
     "iopub.execute_input": "2024-01-07T17:35:16.144882Z",
     "iopub.status.busy": "2024-01-07T17:35:16.144288Z",
     "iopub.status.idle": "2024-01-07T17:35:16.417511Z",
     "shell.execute_reply": "2024-01-07T17:35:16.416215Z"
    },
    "papermill": {
     "duration": 0.310301,
     "end_time": "2024-01-07T17:35:16.420681",
     "exception": false,
     "start_time": "2024-01-07T17:35:16.110380",
     "status": "completed"
    },
    "tags": []
   },
   "outputs": [
    {
     "data": {
      "image/png": "[encoded data removed]",
      "text/plain": [
       "<Figure size 800x600 with 1 Axes>"
      ]
     },
     "metadata": {},
     "output_type": "display_data"
    }
   ],
   "source": [
    "# Compute ROC curve and AUC\n",
    "fpr, tpr, thresholds = roc_curve(y_test, y_pred_proba)\n",
    "roc_auc = auc(fpr, tpr)\n",
    "\n",
    "# Plotting the ROC curve\n",
    "plt.figure(figsize=(8, 6))\n",
    "plt.plot(fpr, tpr, color='darkorange', lw=2, label='ROC curve (area = %0.2f)' % roc_auc)\n",
    "plt.plot([0, 1], [0, 1], color='navy', lw=2, linestyle='--')\n",
    "plt.xlim([0.0, 1.0])\n",
    "plt.ylim([0.0, 1.05])\n",
    "plt.xlabel('False Positive Rate')\n",
    "plt.ylabel('True Positive Rate')\n",
    "plt.title('Receiver Operating Characteristic (ROC)')\n",
    "plt.legend(loc=\"lower right\")\n",
    "plt.show()"
   ]
  },
  {
   "cell_type": "code",
   "execution_count": 35,
   "id": "9fea3279",
   "metadata": {
    "execution": {
     "iopub.execute_input": "2024-01-07T17:35:16.484191Z",
     "iopub.status.busy": "2024-01-07T17:35:16.483391Z",
     "iopub.status.idle": "2024-01-07T17:35:16.821150Z",
     "shell.execute_reply": "2024-01-07T17:35:16.820222Z"
    },
    "papermill": {
     "duration": 0.373198,
     "end_time": "2024-01-07T17:35:16.824092",
     "exception": false,
     "start_time": "2024-01-07T17:35:16.450894",
     "status": "completed"
    },
    "tags": []
   },
   "outputs": [
    {
     "data": {
      "image/png": "[encoded data removed]",
      "text/plain": [
       "<Figure size 1000x600 with 1 Axes>"
      ]
     },
     "metadata": {},
     "output_type": "display_data"
    }
   ],
   "source": [
    "feature_importance = rf_clf.feature_importances_\n",
    "feature_names = [[\"bmi\", \"age\", \"tackleSuccessRate\", \"assistSuccessRate\", \"forcedFumble\", \"assist\", \"quarter\"]]\n",
    "importances = pd.Series(feature_importance, index=feature_names)\n",
    "\n",
    "# Plotting the feature importances\n",
    "plt.figure(figsize=(10, 6))\n",
    "importances.sort_values(ascending=False).plot(kind='bar')\n",
    "plt.title('Top Feature Importances in Random Forest Model')\n",
    "plt.xlabel('Features')\n",
    "plt.ylabel('Importance')\n",
    "plt.show()"
   ]
  },
  {
   "cell_type": "markdown",
   "id": "f4ea5622",
   "metadata": {
    "papermill": {
     "duration": 0.0343,
     "end_time": "2024-01-07T17:35:16.889698",
     "exception": false,
     "start_time": "2024-01-07T17:35:16.855398",
     "status": "completed"
    },
    "tags": []
   },
   "source": [
    "### Model 4: K Nearest Neighbors"
   ]
  },
  {
   "cell_type": "code",
   "execution_count": 36,
   "id": "2d0c96e1",
   "metadata": {
    "execution": {
     "iopub.execute_input": "2024-01-07T17:35:16.956116Z",
     "iopub.status.busy": "2024-01-07T17:35:16.954951Z",
     "iopub.status.idle": "2024-01-07T17:35:17.159758Z",
     "shell.execute_reply": "2024-01-07T17:35:17.158312Z"
    },
    "papermill": {
     "duration": 0.241718,
     "end_time": "2024-01-07T17:35:17.163010",
     "exception": false,
     "start_time": "2024-01-07T17:35:16.921292",
     "status": "completed"
    },
    "tags": []
   },
   "outputs": [
    {
     "name": "stdout",
     "output_type": "stream",
     "text": [
      "Model Accuracy: 86.28800917957544\n"
     ]
    }
   ],
   "source": [
    "# Create the KNN Classifier\n",
    "knn = KNeighborsClassifier(n_neighbors=7) \n",
    "\n",
    "# Train the model\n",
    "knn.fit(X_train, y_train) \n",
    "\n",
    "# Make predictions\n",
    "y_pred_knn = knn.predict(X_test)\n",
    "\n",
    "# Calculate Accuracy\n",
    "accuracy_knn = accuracy_score(y_test, y_pred_knn)*100\n",
    "print(f\"Model Accuracy: {accuracy_knn}\")"
   ]
  },
  {
   "cell_type": "code",
   "execution_count": 37,
   "id": "203a533e",
   "metadata": {
    "execution": {
     "iopub.execute_input": "2024-01-07T17:35:17.230399Z",
     "iopub.status.busy": "2024-01-07T17:35:17.229594Z",
     "iopub.status.idle": "2024-01-07T17:35:29.334637Z",
     "shell.execute_reply": "2024-01-07T17:35:29.333152Z"
    },
    "papermill": {
     "duration": 12.142938,
     "end_time": "2024-01-07T17:35:29.337399",
     "exception": false,
     "start_time": "2024-01-07T17:35:17.194461",
     "status": "completed"
    },
    "tags": []
   },
   "outputs": [
    {
     "data": {
      "image/png": "[encoded data removed]",
      "text/plain": [
       "<Figure size 640x480 with 1 Axes>"
      ]
     },
     "metadata": {},
     "output_type": "display_data"
    }
   ],
   "source": [
    "neighbors = np.arange(1, 9) \n",
    "train_accuracy = np.empty(len(neighbors)) \n",
    "test_accuracy = np.empty(len(neighbors)) \n",
    "  \n",
    "# Loop over K values \n",
    "for i, k in enumerate(neighbors): \n",
    "    knn = KNeighborsClassifier(n_neighbors=k) \n",
    "    knn.fit(X_train, y_train) \n",
    "      \n",
    "    # Compute training and test data accuracy \n",
    "    train_accuracy[i] = knn.score(X_train, y_train) \n",
    "    test_accuracy[i] = knn.score(X_test, y_test) \n",
    "  \n",
    "plt.plot(neighbors, test_accuracy, label = 'Testing dataset Accuracy') \n",
    "plt.plot(neighbors, train_accuracy, label = 'Training dataset Accuracy') \n",
    "  \n",
    "plt.legend() \n",
    "plt.xlabel('n_neighbors') \n",
    "plt.ylabel('Accuracy') \n",
    "plt.show()"
   ]
  },
  {
   "cell_type": "markdown",
   "id": "d0cc41f7",
   "metadata": {
    "papermill": {
     "duration": 0.032507,
     "end_time": "2024-01-07T17:35:29.402536",
     "exception": false,
     "start_time": "2024-01-07T17:35:29.370029",
     "status": "completed"
    },
    "tags": []
   },
   "source": [
    "# Step 5: Determine what model produces the best accuracy\n"
   ]
  },
  {
   "cell_type": "markdown",
   "id": "498b3e83",
   "metadata": {
    "papermill": {
     "duration": 0.033512,
     "end_time": "2024-01-07T17:35:29.468084",
     "exception": false,
     "start_time": "2024-01-07T17:35:29.434572",
     "status": "completed"
    },
    "tags": []
   },
   "source": [
    "Based on the 4 types of models used, these were their accuracy rates:"
   ]
  },
  {
   "cell_type": "code",
   "execution_count": 38,
   "id": "c38f3142",
   "metadata": {
    "execution": {
     "iopub.execute_input": "2024-01-07T17:35:29.535268Z",
     "iopub.status.busy": "2024-01-07T17:35:29.534709Z",
     "iopub.status.idle": "2024-01-07T17:35:29.549159Z",
     "shell.execute_reply": "2024-01-07T17:35:29.547700Z"
    },
    "papermill": {
     "duration": 0.051849,
     "end_time": "2024-01-07T17:35:29.551965",
     "exception": false,
     "start_time": "2024-01-07T17:35:29.500116",
     "status": "completed"
    },
    "tags": []
   },
   "outputs": [
    {
     "name": "stdout",
     "output_type": "stream",
     "text": [
      "SVM Accuracy: 88.00917957544463\n",
      "Naive Bayes Accuracy: 87.95180722891565\n",
      "Random Forest Accuracy: 85.77165806081469\n",
      "K Nearest Neigbors Accuracy: 86.28800917957544\n"
     ]
    }
   ],
   "source": [
    "accuracy = accuracy_score(y_test, y_pred)*100\n",
    "print(f\"SVM Accuracy: {accuracy}\")\n",
    "\n",
    "accuracy_gnb = accuracy_score(y_test, y_pred_gnb)*100\n",
    "print(f\"Naive Bayes Accuracy: {accuracy_gnb}\")\n",
    "\n",
    "accuracy_rf = accuracy_score(y_test, y_pred_rf)*100\n",
    "print(f\"Random Forest Accuracy: {accuracy_rf}\")\n",
    "\n",
    "accuracy_knn = accuracy_score(y_test, y_pred_knn)*100\n",
    "print(f\"K Nearest Neigbors Accuracy: {accuracy_knn}\")"
   ]
  },
  {
   "cell_type": "markdown",
   "id": "4b013ba6",
   "metadata": {
    "papermill": {
     "duration": 0.031699,
     "end_time": "2024-01-07T17:35:29.615940",
     "exception": false,
     "start_time": "2024-01-07T17:35:29.584241",
     "status": "completed"
    },
    "tags": []
   },
   "source": [
    "The model with the highest accuracy was the SVM followed closely by the Naive Bayes. The Random Forest and K Nearest Neighbors also performed well, but there is a larger gap between them as the bottom 2 vs. the top 2.\n"
   ]
  },
  {
   "cell_type": "markdown",
   "id": "fb17380e",
   "metadata": {
    "papermill": {
     "duration": 0.031817,
     "end_time": "2024-01-07T17:35:29.680462",
     "exception": false,
     "start_time": "2024-01-07T17:35:29.648645",
     "status": "completed"
    },
    "tags": []
   },
   "source": [
    "# Step 6: Analyze and interpret results"
   ]
  }
 ],
 "metadata": {
  "kaggle": {
   "accelerator": "none",
   "dataSources": [
    {
     "databundleVersionId": 6654553,
     "sourceId": 60305,
     "sourceType": "competition"
    }
   ],
   "dockerImageVersionId": 30626,
   "isGpuEnabled": false,
   "isInternetEnabled": true,
   "language": "python",
   "sourceType": "notebook"
  },
  "kernelspec": {
   "display_name": "Python 3",
   "language": "python",
   "name": "python3"
  },
  "language_info": {
   "codemirror_mode": {
    "name": "ipython",
    "version": 3
   },
   "file_extension": ".py",
   "mimetype": "text/x-python",
   "name": "python",
   "nbconvert_exporter": "python",
   "pygments_lexer": "ipython3",
   "version": "3.10.12"
  },
  "papermill": {
   "default_parameters": {},
   "duration": 97.943129,
   "end_time": "2024-01-07T17:35:31.140230",
   "environment_variables": {},
   "exception": null,
   "input_path": "__notebook__.ipynb",
   "output_path": "__notebook__.ipynb",
   "parameters": {},
   "start_time": "2024-01-07T17:33:53.197101",
   "version": "2.4.0"
  }
 },
 "nbformat": 4,
 "nbformat_minor": 5
}
